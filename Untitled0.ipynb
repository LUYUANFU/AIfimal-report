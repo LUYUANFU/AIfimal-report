{
  "nbformat": 4,
  "nbformat_minor": 0,
  "metadata": {
    "colab": {
      "provenance": [],
      "gpuType": "T4"
    },
    "kernelspec": {
      "name": "python3",
      "display_name": "Python 3"
    },
    "language_info": {
      "name": "python"
    },
    "accelerator": "GPU",
    "widgets": {
      "application/vnd.jupyter.widget-state+json": {
        "03f7504bd19c477ea0b62341c3277404": {
          "model_module": "@jupyter-widgets/controls",
          "model_name": "VBoxModel",
          "model_module_version": "1.5.0",
          "state": {
            "_dom_classes": [],
            "_model_module": "@jupyter-widgets/controls",
            "_model_module_version": "1.5.0",
            "_model_name": "VBoxModel",
            "_view_count": null,
            "_view_module": "@jupyter-widgets/controls",
            "_view_module_version": "1.5.0",
            "_view_name": "VBoxView",
            "box_style": "",
            "children": [
              "IPY_MODEL_0f562d7c60034ea694892d423f02dc6b"
            ],
            "layout": "IPY_MODEL_b51bcc9cdcfa4021a3bd2556966112e7"
          }
        },
        "0f562d7c60034ea694892d423f02dc6b": {
          "model_module": "@jupyter-widgets/controls",
          "model_name": "HBoxModel",
          "model_module_version": "1.5.0",
          "state": {
            "_dom_classes": [],
            "_model_module": "@jupyter-widgets/controls",
            "_model_module_version": "1.5.0",
            "_model_name": "HBoxModel",
            "_view_count": null,
            "_view_module": "@jupyter-widgets/controls",
            "_view_module_version": "1.5.0",
            "_view_name": "HBoxView",
            "box_style": "",
            "children": [
              "IPY_MODEL_07e44fa1f11a454d854bb76811a4cbc7",
              "IPY_MODEL_7c4655448bac4f90b5f6327c271db2b1"
            ],
            "layout": "IPY_MODEL_f1769f4ea4d7492fbabec5c88e57a2b0"
          }
        },
        "b51bcc9cdcfa4021a3bd2556966112e7": {
          "model_module": "@jupyter-widgets/base",
          "model_name": "LayoutModel",
          "model_module_version": "1.2.0",
          "state": {
            "_model_module": "@jupyter-widgets/base",
            "_model_module_version": "1.2.0",
            "_model_name": "LayoutModel",
            "_view_count": null,
            "_view_module": "@jupyter-widgets/base",
            "_view_module_version": "1.2.0",
            "_view_name": "LayoutView",
            "align_content": null,
            "align_items": null,
            "align_self": null,
            "border": null,
            "bottom": null,
            "display": null,
            "flex": null,
            "flex_flow": null,
            "grid_area": null,
            "grid_auto_columns": null,
            "grid_auto_flow": null,
            "grid_auto_rows": null,
            "grid_column": null,
            "grid_gap": null,
            "grid_row": null,
            "grid_template_areas": null,
            "grid_template_columns": null,
            "grid_template_rows": null,
            "height": null,
            "justify_content": null,
            "justify_items": null,
            "left": null,
            "margin": null,
            "max_height": null,
            "max_width": null,
            "min_height": null,
            "min_width": null,
            "object_fit": null,
            "object_position": null,
            "order": null,
            "overflow": null,
            "overflow_x": null,
            "overflow_y": null,
            "padding": null,
            "right": null,
            "top": null,
            "visibility": null,
            "width": null
          }
        },
        "07e44fa1f11a454d854bb76811a4cbc7": {
          "model_module": "@jupyter-widgets/output",
          "model_name": "OutputModel",
          "model_module_version": "1.0.0",
          "state": {
            "_dom_classes": [],
            "_model_module": "@jupyter-widgets/output",
            "_model_module_version": "1.0.0",
            "_model_name": "OutputModel",
            "_view_count": null,
            "_view_module": "@jupyter-widgets/output",
            "_view_module_version": "1.0.0",
            "_view_name": "OutputView",
            "layout": "IPY_MODEL_7c8a8d611b8b4d15898aff7218b60c39",
            "msg_id": "",
            "outputs": [
              {
                "output_type": "display_data",
                "data": {
                  "text/plain": "<Figure size 200x200 with 1 Axes>",
                  "image/png": "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\n"
                },
                "metadata": {}
              }
            ]
          }
        },
        "7c4655448bac4f90b5f6327c271db2b1": {
          "model_module": "@jupyter-widgets/output",
          "model_name": "OutputModel",
          "model_module_version": "1.0.0",
          "state": {
            "_dom_classes": [],
            "_model_module": "@jupyter-widgets/output",
            "_model_module_version": "1.0.0",
            "_model_name": "OutputModel",
            "_view_count": null,
            "_view_module": "@jupyter-widgets/output",
            "_view_module_version": "1.0.0",
            "_view_name": "OutputView",
            "layout": "IPY_MODEL_35b961dc44f54f349bb8de6ff7f5eb77",
            "msg_id": "",
            "outputs": [
              {
                "output_type": "display_data",
                "data": {
                  "text/plain": "<Figure size 200x200 with 1 Axes>",
                  "image/png": "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\n"
                },
                "metadata": {}
              }
            ]
          }
        },
        "f1769f4ea4d7492fbabec5c88e57a2b0": {
          "model_module": "@jupyter-widgets/base",
          "model_name": "LayoutModel",
          "model_module_version": "1.2.0",
          "state": {
            "_model_module": "@jupyter-widgets/base",
            "_model_module_version": "1.2.0",
            "_model_name": "LayoutModel",
            "_view_count": null,
            "_view_module": "@jupyter-widgets/base",
            "_view_module_version": "1.2.0",
            "_view_name": "LayoutView",
            "align_content": null,
            "align_items": null,
            "align_self": null,
            "border": null,
            "bottom": null,
            "display": null,
            "flex": null,
            "flex_flow": null,
            "grid_area": null,
            "grid_auto_columns": null,
            "grid_auto_flow": null,
            "grid_auto_rows": null,
            "grid_column": null,
            "grid_gap": null,
            "grid_row": null,
            "grid_template_areas": null,
            "grid_template_columns": null,
            "grid_template_rows": null,
            "height": null,
            "justify_content": null,
            "justify_items": null,
            "left": null,
            "margin": null,
            "max_height": null,
            "max_width": null,
            "min_height": null,
            "min_width": null,
            "object_fit": null,
            "object_position": null,
            "order": null,
            "overflow": null,
            "overflow_x": null,
            "overflow_y": null,
            "padding": null,
            "right": null,
            "top": null,
            "visibility": null,
            "width": null
          }
        },
        "7c8a8d611b8b4d15898aff7218b60c39": {
          "model_module": "@jupyter-widgets/base",
          "model_name": "LayoutModel",
          "model_module_version": "1.2.0",
          "state": {
            "_model_module": "@jupyter-widgets/base",
            "_model_module_version": "1.2.0",
            "_model_name": "LayoutModel",
            "_view_count": null,
            "_view_module": "@jupyter-widgets/base",
            "_view_module_version": "1.2.0",
            "_view_name": "LayoutView",
            "align_content": null,
            "align_items": null,
            "align_self": null,
            "border": null,
            "bottom": null,
            "display": null,
            "flex": null,
            "flex_flow": null,
            "grid_area": null,
            "grid_auto_columns": null,
            "grid_auto_flow": null,
            "grid_auto_rows": null,
            "grid_column": null,
            "grid_gap": null,
            "grid_row": null,
            "grid_template_areas": null,
            "grid_template_columns": null,
            "grid_template_rows": null,
            "height": null,
            "justify_content": null,
            "justify_items": null,
            "left": null,
            "margin": null,
            "max_height": null,
            "max_width": null,
            "min_height": null,
            "min_width": null,
            "object_fit": null,
            "object_position": null,
            "order": null,
            "overflow": null,
            "overflow_x": null,
            "overflow_y": null,
            "padding": null,
            "right": null,
            "top": null,
            "visibility": null,
            "width": null
          }
        },
        "35b961dc44f54f349bb8de6ff7f5eb77": {
          "model_module": "@jupyter-widgets/base",
          "model_name": "LayoutModel",
          "model_module_version": "1.2.0",
          "state": {
            "_model_module": "@jupyter-widgets/base",
            "_model_module_version": "1.2.0",
            "_model_name": "LayoutModel",
            "_view_count": null,
            "_view_module": "@jupyter-widgets/base",
            "_view_module_version": "1.2.0",
            "_view_name": "LayoutView",
            "align_content": null,
            "align_items": null,
            "align_self": null,
            "border": null,
            "bottom": null,
            "display": null,
            "flex": null,
            "flex_flow": null,
            "grid_area": null,
            "grid_auto_columns": null,
            "grid_auto_flow": null,
            "grid_auto_rows": null,
            "grid_column": null,
            "grid_gap": null,
            "grid_row": null,
            "grid_template_areas": null,
            "grid_template_columns": null,
            "grid_template_rows": null,
            "height": null,
            "justify_content": null,
            "justify_items": null,
            "left": null,
            "margin": null,
            "max_height": null,
            "max_width": null,
            "min_height": null,
            "min_width": null,
            "object_fit": null,
            "object_position": null,
            "order": null,
            "overflow": null,
            "overflow_x": null,
            "overflow_y": null,
            "padding": null,
            "right": null,
            "top": null,
            "visibility": null,
            "width": null
          }
        }
      }
    }
  },
  "cells": [
    {
      "cell_type": "code",
      "source": [
        "from google.colab import drive\n",
        "drive.mount('/content/drive')"
      ],
      "metadata": {
        "colab": {
          "base_uri": "https://localhost:8080/"
        },
        "id": "6jk48dvlIAYf",
        "outputId": "727c355d-9c34-44b7-8202-014d2bf95637"
      },
      "execution_count": 4,
      "outputs": [
        {
          "output_type": "stream",
          "name": "stdout",
          "text": [
            "Drive already mounted at /content/drive; to attempt to forcibly remount, call drive.mount(\"/content/drive\", force_remount=True).\n"
          ]
        }
      ]
    },
    {
      "cell_type": "code",
      "execution_count": 2,
      "metadata": {
        "colab": {
          "base_uri": "https://localhost:8080/"
        },
        "id": "MseoV6_hHk_t",
        "outputId": "55cb840c-eaad-4752-f686-7772a8f664af"
      },
      "outputs": [
        {
          "output_type": "stream",
          "name": "stdout",
          "text": [
            "E: Package 'libfluidsynth1' has no installation candidate\n"
          ]
        }
      ],
      "source": [
        "# Importing a library that is not in Colaboratory\n",
        "!pip install -q matplotlib-venn\n",
        "!apt-get -qq install -y libfluidsynth1"
      ]
    },
    {
      "cell_type": "code",
      "source": [
        "# Upgrading TensorFlow\n",
        "# To determine which version you're using:\n",
        "!pip show tensorflow"
      ],
      "metadata": {
        "colab": {
          "base_uri": "https://localhost:8080/"
        },
        "id": "x60tjua8IREz",
        "outputId": "d5969436-703d-47fe-97c0-041e234942ea"
      },
      "execution_count": 3,
      "outputs": [
        {
          "output_type": "stream",
          "name": "stdout",
          "text": [
            "Name: tensorflow\n",
            "Version: 2.17.1\n",
            "Summary: TensorFlow is an open source machine learning framework for everyone.\n",
            "Home-page: https://www.tensorflow.org/\n",
            "Author: Google Inc.\n",
            "Author-email: packages@tensorflow.org\n",
            "License: Apache 2.0\n",
            "Location: /usr/local/lib/python3.10/dist-packages\n",
            "Requires: absl-py, astunparse, flatbuffers, gast, google-pasta, grpcio, h5py, keras, libclang, ml-dtypes, numpy, opt-einsum, packaging, protobuf, requests, setuptools, six, tensorboard, tensorflow-io-gcs-filesystem, termcolor, typing-extensions, wrapt\n",
            "Required-by: dopamine_rl, tf_keras\n"
          ]
        }
      ]
    },
    {
      "cell_type": "code",
      "source": [
        "# For the current version:\n",
        "!pip install --upgrade tensorflow\n",
        "\n",
        "# For a specific version:\n",
        "!pip install tensorflow==1.2"
      ],
      "metadata": {
        "colab": {
          "base_uri": "https://localhost:8080/"
        },
        "id": "FsUZkJUkIU6G",
        "outputId": "61e8bc25-1465-4e3c-80f7-8d5ba55dc7ba"
      },
      "execution_count": 5,
      "outputs": [
        {
          "output_type": "stream",
          "name": "stdout",
          "text": [
            "Requirement already satisfied: tensorflow in /usr/local/lib/python3.10/dist-packages (2.17.1)\n",
            "Collecting tensorflow\n",
            "  Downloading tensorflow-2.18.0-cp310-cp310-manylinux_2_17_x86_64.manylinux2014_x86_64.whl.metadata (4.1 kB)\n",
            "Requirement already satisfied: absl-py>=1.0.0 in /usr/local/lib/python3.10/dist-packages (from tensorflow) (1.4.0)\n",
            "Requirement already satisfied: astunparse>=1.6.0 in /usr/local/lib/python3.10/dist-packages (from tensorflow) (1.6.3)\n",
            "Requirement already satisfied: flatbuffers>=24.3.25 in /usr/local/lib/python3.10/dist-packages (from tensorflow) (24.3.25)\n",
            "Requirement already satisfied: gast!=0.5.0,!=0.5.1,!=0.5.2,>=0.2.1 in /usr/local/lib/python3.10/dist-packages (from tensorflow) (0.6.0)\n",
            "Requirement already satisfied: google-pasta>=0.1.1 in /usr/local/lib/python3.10/dist-packages (from tensorflow) (0.2.0)\n",
            "Requirement already satisfied: libclang>=13.0.0 in /usr/local/lib/python3.10/dist-packages (from tensorflow) (18.1.1)\n",
            "Requirement already satisfied: opt-einsum>=2.3.2 in /usr/local/lib/python3.10/dist-packages (from tensorflow) (3.4.0)\n",
            "Requirement already satisfied: packaging in /usr/local/lib/python3.10/dist-packages (from tensorflow) (24.2)\n",
            "Requirement already satisfied: protobuf!=4.21.0,!=4.21.1,!=4.21.2,!=4.21.3,!=4.21.4,!=4.21.5,<6.0.0dev,>=3.20.3 in /usr/local/lib/python3.10/dist-packages (from tensorflow) (4.25.5)\n",
            "Requirement already satisfied: requests<3,>=2.21.0 in /usr/local/lib/python3.10/dist-packages (from tensorflow) (2.32.3)\n",
            "Requirement already satisfied: setuptools in /usr/local/lib/python3.10/dist-packages (from tensorflow) (75.1.0)\n",
            "Requirement already satisfied: six>=1.12.0 in /usr/local/lib/python3.10/dist-packages (from tensorflow) (1.17.0)\n",
            "Requirement already satisfied: termcolor>=1.1.0 in /usr/local/lib/python3.10/dist-packages (from tensorflow) (2.5.0)\n",
            "Requirement already satisfied: typing-extensions>=3.6.6 in /usr/local/lib/python3.10/dist-packages (from tensorflow) (4.12.2)\n",
            "Requirement already satisfied: wrapt>=1.11.0 in /usr/local/lib/python3.10/dist-packages (from tensorflow) (1.17.0)\n",
            "Requirement already satisfied: grpcio<2.0,>=1.24.3 in /usr/local/lib/python3.10/dist-packages (from tensorflow) (1.68.1)\n",
            "Collecting tensorboard<2.19,>=2.18 (from tensorflow)\n",
            "  Downloading tensorboard-2.18.0-py3-none-any.whl.metadata (1.6 kB)\n",
            "Requirement already satisfied: keras>=3.5.0 in /usr/local/lib/python3.10/dist-packages (from tensorflow) (3.5.0)\n",
            "Requirement already satisfied: numpy<2.1.0,>=1.26.0 in /usr/local/lib/python3.10/dist-packages (from tensorflow) (1.26.4)\n",
            "Requirement already satisfied: h5py>=3.11.0 in /usr/local/lib/python3.10/dist-packages (from tensorflow) (3.12.1)\n",
            "Requirement already satisfied: ml-dtypes<0.5.0,>=0.4.0 in /usr/local/lib/python3.10/dist-packages (from tensorflow) (0.4.1)\n",
            "Requirement already satisfied: tensorflow-io-gcs-filesystem>=0.23.1 in /usr/local/lib/python3.10/dist-packages (from tensorflow) (0.37.1)\n",
            "Requirement already satisfied: wheel<1.0,>=0.23.0 in /usr/local/lib/python3.10/dist-packages (from astunparse>=1.6.0->tensorflow) (0.45.1)\n",
            "Requirement already satisfied: rich in /usr/local/lib/python3.10/dist-packages (from keras>=3.5.0->tensorflow) (13.9.4)\n",
            "Requirement already satisfied: namex in /usr/local/lib/python3.10/dist-packages (from keras>=3.5.0->tensorflow) (0.0.8)\n",
            "Requirement already satisfied: optree in /usr/local/lib/python3.10/dist-packages (from keras>=3.5.0->tensorflow) (0.13.1)\n",
            "Requirement already satisfied: charset-normalizer<4,>=2 in /usr/local/lib/python3.10/dist-packages (from requests<3,>=2.21.0->tensorflow) (3.4.0)\n",
            "Requirement already satisfied: idna<4,>=2.5 in /usr/local/lib/python3.10/dist-packages (from requests<3,>=2.21.0->tensorflow) (3.10)\n",
            "Requirement already satisfied: urllib3<3,>=1.21.1 in /usr/local/lib/python3.10/dist-packages (from requests<3,>=2.21.0->tensorflow) (2.2.3)\n",
            "Requirement already satisfied: certifi>=2017.4.17 in /usr/local/lib/python3.10/dist-packages (from requests<3,>=2.21.0->tensorflow) (2024.12.14)\n",
            "Requirement already satisfied: markdown>=2.6.8 in /usr/local/lib/python3.10/dist-packages (from tensorboard<2.19,>=2.18->tensorflow) (3.7)\n",
            "Requirement already satisfied: tensorboard-data-server<0.8.0,>=0.7.0 in /usr/local/lib/python3.10/dist-packages (from tensorboard<2.19,>=2.18->tensorflow) (0.7.2)\n",
            "Requirement already satisfied: werkzeug>=1.0.1 in /usr/local/lib/python3.10/dist-packages (from tensorboard<2.19,>=2.18->tensorflow) (3.1.3)\n",
            "Requirement already satisfied: MarkupSafe>=2.1.1 in /usr/local/lib/python3.10/dist-packages (from werkzeug>=1.0.1->tensorboard<2.19,>=2.18->tensorflow) (3.0.2)\n",
            "Requirement already satisfied: markdown-it-py>=2.2.0 in /usr/local/lib/python3.10/dist-packages (from rich->keras>=3.5.0->tensorflow) (3.0.0)\n",
            "Requirement already satisfied: pygments<3.0.0,>=2.13.0 in /usr/local/lib/python3.10/dist-packages (from rich->keras>=3.5.0->tensorflow) (2.18.0)\n",
            "Requirement already satisfied: mdurl~=0.1 in /usr/local/lib/python3.10/dist-packages (from markdown-it-py>=2.2.0->rich->keras>=3.5.0->tensorflow) (0.1.2)\n",
            "Downloading tensorflow-2.18.0-cp310-cp310-manylinux_2_17_x86_64.manylinux2014_x86_64.whl (615.3 MB)\n",
            "\u001b[2K   \u001b[90m━━━━━━━━━━━━━━━━━━━━━━━━━━━━━━━━━━━━━━━━\u001b[0m \u001b[32m615.3/615.3 MB\u001b[0m \u001b[31m2.8 MB/s\u001b[0m eta \u001b[36m0:00:00\u001b[0m\n",
            "\u001b[?25hDownloading tensorboard-2.18.0-py3-none-any.whl (5.5 MB)\n",
            "\u001b[2K   \u001b[90m━━━━━━━━━━━━━━━━━━━━━━━━━━━━━━━━━━━━━━━━\u001b[0m \u001b[32m5.5/5.5 MB\u001b[0m \u001b[31m58.7 MB/s\u001b[0m eta \u001b[36m0:00:00\u001b[0m\n",
            "\u001b[?25hInstalling collected packages: tensorboard, tensorflow\n",
            "  Attempting uninstall: tensorboard\n",
            "    Found existing installation: tensorboard 2.17.1\n",
            "    Uninstalling tensorboard-2.17.1:\n",
            "      Successfully uninstalled tensorboard-2.17.1\n",
            "  Attempting uninstall: tensorflow\n",
            "    Found existing installation: tensorflow 2.17.1\n",
            "    Uninstalling tensorflow-2.17.1:\n",
            "      Successfully uninstalled tensorflow-2.17.1\n",
            "\u001b[31mERROR: pip's dependency resolver does not currently take into account all the packages that are installed. This behaviour is the source of the following dependency conflicts.\n",
            "tf-keras 2.17.0 requires tensorflow<2.18,>=2.17, but you have tensorflow 2.18.0 which is incompatible.\u001b[0m\u001b[31m\n",
            "\u001b[0mSuccessfully installed tensorboard-2.18.0 tensorflow-2.18.0\n",
            "\u001b[31mERROR: Could not find a version that satisfies the requirement tensorflow==1.2 (from versions: 2.8.0rc0, 2.8.0rc1, 2.8.0, 2.8.1, 2.8.2, 2.8.3, 2.8.4, 2.9.0rc0, 2.9.0rc1, 2.9.0rc2, 2.9.0, 2.9.1, 2.9.2, 2.9.3, 2.10.0rc0, 2.10.0rc1, 2.10.0rc2, 2.10.0rc3, 2.10.0, 2.10.1, 2.11.0rc0, 2.11.0rc1, 2.11.0rc2, 2.11.0, 2.11.1, 2.12.0rc0, 2.12.0rc1, 2.12.0, 2.12.1, 2.13.0rc0, 2.13.0rc1, 2.13.0rc2, 2.13.0, 2.13.1, 2.14.0rc0, 2.14.0rc1, 2.14.0, 2.14.1, 2.15.0rc0, 2.15.0rc1, 2.15.0, 2.15.0.post1, 2.15.1, 2.16.0rc0, 2.16.1, 2.16.2, 2.17.0rc0, 2.17.0rc1, 2.17.0, 2.17.1, 2.18.0rc0, 2.18.0rc1, 2.18.0rc2, 2.18.0)\u001b[0m\u001b[31m\n",
            "\u001b[0m\u001b[31mERROR: No matching distribution found for tensorflow==1.2\u001b[0m\u001b[31m\n",
            "\u001b[0m"
          ]
        }
      ]
    },
    {
      "cell_type": "code",
      "source": [
        "# 確認是否有安裝必要套件\n",
        "!pip install packaging\n",
        "\n",
        "from os import path\n",
        "from packaging.tags import sys_tags\n",
        "\n",
        "# 取得平台資訊\n",
        "tags = list(sys_tags())\n",
        "platform = tags[0].platform\n",
        "\n",
        "# 判斷是否使用 GPU\n",
        "accelerator = 'cu80' if path.exists('/opt/bin/nvidia-smi') else 'cpu'\n",
        "\n",
        "print(f\"平台: {platform}\")\n",
        "print(f\"加速器: {accelerator}\")\n"
      ],
      "metadata": {
        "colab": {
          "base_uri": "https://localhost:8080/"
        },
        "id": "FRqBKpnwIX4g",
        "outputId": "bcefd5dc-dd15-41a4-bd30-780766f36f1d"
      },
      "execution_count": 6,
      "outputs": [
        {
          "output_type": "stream",
          "name": "stdout",
          "text": [
            "Requirement already satisfied: packaging in /usr/local/lib/python3.10/dist-packages (24.2)\n",
            "平台: manylinux_2_35_x86_64\n",
            "加速器: cu80\n"
          ]
        }
      ]
    },
    {
      "cell_type": "code",
      "source": [
        "!pip install torch torchvision torchaudio --index-url https://download.pytorch.org/whl/cu118"
      ],
      "metadata": {
        "colab": {
          "base_uri": "https://localhost:8080/"
        },
        "id": "RVI_BZh1IdOt",
        "outputId": "b387984b-5dec-403d-cc88-680257ea249d"
      },
      "execution_count": 7,
      "outputs": [
        {
          "output_type": "stream",
          "name": "stdout",
          "text": [
            "Looking in indexes: https://download.pytorch.org/whl/cu118\n",
            "Requirement already satisfied: torch in /usr/local/lib/python3.10/dist-packages (2.5.1+cu121)\n",
            "Requirement already satisfied: torchvision in /usr/local/lib/python3.10/dist-packages (0.20.1+cu121)\n",
            "Requirement already satisfied: torchaudio in /usr/local/lib/python3.10/dist-packages (2.5.1+cu121)\n",
            "Requirement already satisfied: filelock in /usr/local/lib/python3.10/dist-packages (from torch) (3.16.1)\n",
            "Requirement already satisfied: typing-extensions>=4.8.0 in /usr/local/lib/python3.10/dist-packages (from torch) (4.12.2)\n",
            "Requirement already satisfied: networkx in /usr/local/lib/python3.10/dist-packages (from torch) (3.4.2)\n",
            "Requirement already satisfied: jinja2 in /usr/local/lib/python3.10/dist-packages (from torch) (3.1.4)\n",
            "Requirement already satisfied: fsspec in /usr/local/lib/python3.10/dist-packages (from torch) (2024.10.0)\n",
            "Requirement already satisfied: sympy==1.13.1 in /usr/local/lib/python3.10/dist-packages (from torch) (1.13.1)\n",
            "Requirement already satisfied: mpmath<1.4,>=1.1.0 in /usr/local/lib/python3.10/dist-packages (from sympy==1.13.1->torch) (1.3.0)\n",
            "Requirement already satisfied: numpy in /usr/local/lib/python3.10/dist-packages (from torchvision) (1.26.4)\n",
            "Requirement already satisfied: pillow!=8.3.*,>=5.3.0 in /usr/local/lib/python3.10/dist-packages (from torchvision) (11.0.0)\n",
            "Requirement already satisfied: MarkupSafe>=2.0 in /usr/local/lib/python3.10/dist-packages (from jinja2->torch) (3.0.2)\n"
          ]
        }
      ]
    },
    {
      "cell_type": "code",
      "source": [
        "%cd /content/drive/MyDrive/未命名資料夾/期末報告"
      ],
      "metadata": {
        "colab": {
          "base_uri": "https://localhost:8080/"
        },
        "id": "Sx_xRvEqLMei",
        "outputId": "5fc1d60f-99d5-48e8-85a7-ba0f44ab83c4"
      },
      "execution_count": 9,
      "outputs": [
        {
          "output_type": "stream",
          "name": "stdout",
          "text": [
            "/content/drive/MyDrive/未命名資料夾/期末報告\n"
          ]
        }
      ]
    },
    {
      "cell_type": "code",
      "source": [
        "!apt-get install -y p7zip-full"
      ],
      "metadata": {
        "colab": {
          "base_uri": "https://localhost:8080/"
        },
        "id": "YOcAWduMLhwg",
        "outputId": "6dba06e7-4784-45dd-b226-e834efe4edc8"
      },
      "execution_count": 10,
      "outputs": [
        {
          "output_type": "stream",
          "name": "stdout",
          "text": [
            "Reading package lists... Done\n",
            "Building dependency tree... Done\n",
            "Reading state information... Done\n",
            "p7zip-full is already the newest version (16.02+dfsg-8).\n",
            "0 upgraded, 0 newly installed, 0 to remove and 49 not upgraded.\n"
          ]
        }
      ]
    },
    {
      "cell_type": "code",
      "source": [
        "!apt-get update && apt-get -y install libarchive-dev"
      ],
      "metadata": {
        "colab": {
          "base_uri": "https://localhost:8080/"
        },
        "id": "iEM0FYbpKwJ4",
        "outputId": "6d4064bd-4133-4153-94a0-523ece048ba2"
      },
      "execution_count": 11,
      "outputs": [
        {
          "output_type": "stream",
          "name": "stdout",
          "text": [
            "\r0% [Working]\r            \rGet:1 https://cloud.r-project.org/bin/linux/ubuntu jammy-cran40/ InRelease [3,626 B]\n",
            "\r0% [Connecting to archive.ubuntu.com] [Waiting for headers] [1 InRelease 0 B/3,626 B 0%] [Connected \r0% [Connecting to archive.ubuntu.com] [Waiting for headers] [Connected to r2u.stat.illinois.edu (192\r                                                                                                    \rGet:2 https://developer.download.nvidia.com/compute/cuda/repos/ubuntu2204/x86_64  InRelease [1,581 B]\n",
            "Get:3 http://security.ubuntu.com/ubuntu jammy-security InRelease [129 kB]\n",
            "Hit:4 http://archive.ubuntu.com/ubuntu jammy InRelease\n",
            "Get:5 https://r2u.stat.illinois.edu/ubuntu jammy InRelease [6,555 B]\n",
            "Get:6 http://archive.ubuntu.com/ubuntu jammy-updates InRelease [128 kB]\n",
            "Get:7 http://archive.ubuntu.com/ubuntu jammy-backports InRelease [127 kB]\n",
            "Hit:8 https://ppa.launchpadcontent.net/deadsnakes/ppa/ubuntu jammy InRelease\n",
            "Hit:9 https://ppa.launchpadcontent.net/graphics-drivers/ppa/ubuntu jammy InRelease\n",
            "Hit:10 https://ppa.launchpadcontent.net/ubuntugis/ppa/ubuntu jammy InRelease\n",
            "Get:11 https://developer.download.nvidia.com/compute/cuda/repos/ubuntu2204/x86_64  Packages [1,197 kB]\n",
            "Get:12 https://r2u.stat.illinois.edu/ubuntu jammy/main amd64 Packages [2,631 kB]\n",
            "Get:13 http://security.ubuntu.com/ubuntu jammy-security/restricted amd64 Packages [3,448 kB]\n",
            "Get:14 http://archive.ubuntu.com/ubuntu jammy-updates/restricted amd64 Packages [3,633 kB]\n",
            "Get:15 https://r2u.stat.illinois.edu/ubuntu jammy/main all Packages [8,564 kB]\n",
            "Get:16 http://security.ubuntu.com/ubuntu jammy-security/main amd64 Packages [2,517 kB]\n",
            "Get:17 http://security.ubuntu.com/ubuntu jammy-security/universe amd64 Packages [1,226 kB]\n",
            "Get:18 http://archive.ubuntu.com/ubuntu jammy-updates/universe amd64 Packages [1,517 kB]\n",
            "Get:19 http://archive.ubuntu.com/ubuntu jammy-updates/main amd64 Packages [2,840 kB]\n",
            "Get:20 http://archive.ubuntu.com/ubuntu jammy-backports/main amd64 Packages [81.4 kB]\n",
            "Get:21 http://archive.ubuntu.com/ubuntu jammy-backports/universe amd64 Packages [33.8 kB]\n",
            "Fetched 28.1 MB in 4s (6,367 kB/s)\n",
            "Reading package lists... Done\n",
            "W: Skipping acquire of configured file 'main/source/Sources' as repository 'https://r2u.stat.illinois.edu/ubuntu jammy InRelease' does not seem to provide it (sources.list entry misspelt?)\n",
            "Reading package lists... Done\n",
            "Building dependency tree... Done\n",
            "Reading state information... Done\n",
            "The following NEW packages will be installed:\n",
            "  libarchive-dev\n",
            "0 upgraded, 1 newly installed, 0 to remove and 50 not upgraded.\n",
            "Need to get 581 kB of archives.\n",
            "After this operation, 2,195 kB of additional disk space will be used.\n",
            "Get:1 http://archive.ubuntu.com/ubuntu jammy-updates/main amd64 libarchive-dev amd64 3.6.0-1ubuntu1.3 [581 kB]\n",
            "Fetched 581 kB in 1s (1,008 kB/s)\n",
            "Selecting previously unselected package libarchive-dev:amd64.\n",
            "(Reading database ... 123634 files and directories currently installed.)\n",
            "Preparing to unpack .../libarchive-dev_3.6.0-1ubuntu1.3_amd64.deb ...\n",
            "Unpacking libarchive-dev:amd64 (3.6.0-1ubuntu1.3) ...\n",
            "Setting up libarchive-dev:amd64 (3.6.0-1ubuntu1.3) ...\n",
            "Processing triggers for man-db (2.10.2-1) ...\n"
          ]
        }
      ]
    },
    {
      "cell_type": "code",
      "source": [
        "# Install 7zip reader libarchive\n",
        "# https://pypi.python.org/pypi/libarchive\n",
        "!apt-get -qq install -y libarchive-dev && pip install -q -U libarchive"
      ],
      "metadata": {
        "colab": {
          "base_uri": "https://localhost:8080/"
        },
        "id": "lwQFkhGxIoAy",
        "outputId": "c8b09a4d-8ebe-4eb1-94ea-2e0c78aabd80"
      },
      "execution_count": 12,
      "outputs": [
        {
          "output_type": "stream",
          "name": "stdout",
          "text": [
            "  Preparing metadata (setup.py) ... \u001b[?25l\u001b[?25hdone\n",
            "\u001b[?25l   \u001b[90m━━━━━━━━━━━━━━━━━━━━━━━━━━━━━━━━━━━━━━━━\u001b[0m \u001b[32m0.0/154.7 kB\u001b[0m \u001b[31m?\u001b[0m eta \u001b[36m-:--:--\u001b[0m\r\u001b[2K   \u001b[90m━━━━━━━━━━━━━━━━━━━━━━━━━━━━━━━━━━━━━━━━\u001b[0m \u001b[32m154.7/154.7 kB\u001b[0m \u001b[31m8.7 MB/s\u001b[0m eta \u001b[36m0:00:00\u001b[0m\n",
            "\u001b[?25h  \u001b[1;31merror\u001b[0m: \u001b[1msubprocess-exited-with-error\u001b[0m\n",
            "  \n",
            "  \u001b[31m×\u001b[0m \u001b[32mpython setup.py bdist_wheel\u001b[0m did not run successfully.\n",
            "  \u001b[31m│\u001b[0m exit code: \u001b[1;36m1\u001b[0m\n",
            "  \u001b[31m╰─>\u001b[0m See above for output.\n",
            "  \n",
            "  \u001b[1;35mnote\u001b[0m: This error originates from a subprocess, and is likely not a problem with pip.\n",
            "  Building wheel for libarchive (setup.py) ... \u001b[?25lerror\n",
            "\u001b[31m  ERROR: Failed building wheel for libarchive\u001b[0m\u001b[31m\n",
            "\u001b[0m\u001b[31mERROR: ERROR: Failed to build installable wheels for some pyproject.toml based projects (libarchive)\u001b[0m\u001b[31m\n",
            "\u001b[0m\u001b[?25h"
          ]
        }
      ]
    },
    {
      "cell_type": "code",
      "source": [
        "# Install GraphViz & PyDot\n",
        "# https://pypi.python.org/pypi/pydot\n",
        "!apt-get -qq install -y graphviz && pip install -q pydot\n",
        "import pydot"
      ],
      "metadata": {
        "id": "ayuK5TflI0Sj"
      },
      "execution_count": 13,
      "outputs": []
    },
    {
      "cell_type": "code",
      "source": [
        "!apt-get -qq install -y graphviz\n",
        "!pip install -q pydot"
      ],
      "metadata": {
        "id": "9sBl3CFdMGwB"
      },
      "execution_count": 14,
      "outputs": []
    },
    {
      "cell_type": "code",
      "source": [
        "!apt-get update\n",
        "!apt-get install -y libproj-dev proj-data proj-bin libgeos-dev"
      ],
      "metadata": {
        "colab": {
          "base_uri": "https://localhost:8080/"
        },
        "id": "YR5p4IxiL4Po",
        "outputId": "4299bc9c-23cc-476f-fc61-b3508eb4854e"
      },
      "execution_count": 15,
      "outputs": [
        {
          "output_type": "stream",
          "name": "stdout",
          "text": [
            "\r0% [Working]\r            \rHit:1 https://developer.download.nvidia.com/compute/cuda/repos/ubuntu2204/x86_64  InRelease\n",
            "\r0% [Waiting for headers] [Waiting for headers] [Waiting for headers] [Connected to r2u.stat.illinois\r                                                                                                    \rHit:2 https://cloud.r-project.org/bin/linux/ubuntu jammy-cran40/ InRelease\n",
            "\r0% [Waiting for headers] [Waiting for headers] [Connected to r2u.stat.illinois.edu (192.17.190.167)]\r                                                                                                    \rHit:3 http://security.ubuntu.com/ubuntu jammy-security InRelease\n",
            "\r0% [Waiting for headers] [Connected to r2u.stat.illinois.edu (192.17.190.167)] [Connecting to ppa.la\r                                                                                                    \rHit:4 http://archive.ubuntu.com/ubuntu jammy InRelease\n",
            "Hit:5 http://archive.ubuntu.com/ubuntu jammy-updates InRelease\n",
            "Hit:6 http://archive.ubuntu.com/ubuntu jammy-backports InRelease\n",
            "Hit:7 https://r2u.stat.illinois.edu/ubuntu jammy InRelease\n",
            "Hit:8 https://ppa.launchpadcontent.net/deadsnakes/ppa/ubuntu jammy InRelease\n",
            "Hit:9 https://ppa.launchpadcontent.net/graphics-drivers/ppa/ubuntu jammy InRelease\n",
            "Hit:10 https://ppa.launchpadcontent.net/ubuntugis/ppa/ubuntu jammy InRelease\n",
            "Reading package lists... Done\n",
            "W: Skipping acquire of configured file 'main/source/Sources' as repository 'https://r2u.stat.illinois.edu/ubuntu jammy InRelease' does not seem to provide it (sources.list entry misspelt?)\n",
            "Reading package lists... Done\n",
            "Building dependency tree... Done\n",
            "Reading state information... Done\n",
            "libgeos-dev is already the newest version (3.11.1-1~jammy0).\n",
            "libgeos-dev set to manually installed.\n",
            "libproj-dev is already the newest version (9.1.1-1~jammy0).\n",
            "libproj-dev set to manually installed.\n",
            "proj-data is already the newest version (9.1.1-1~jammy0).\n",
            "proj-data set to manually installed.\n",
            "The following NEW packages will be installed:\n",
            "  proj-bin\n",
            "0 upgraded, 1 newly installed, 0 to remove and 50 not upgraded.\n",
            "Need to get 197 kB of archives.\n",
            "After this operation, 504 kB of additional disk space will be used.\n",
            "Get:1 https://ppa.launchpadcontent.net/ubuntugis/ppa/ubuntu jammy/main amd64 proj-bin amd64 9.1.1-1~jammy0 [197 kB]\n",
            "Fetched 197 kB in 1s (145 kB/s)\n",
            "Selecting previously unselected package proj-bin.\n",
            "(Reading database ... 123691 files and directories currently installed.)\n",
            "Preparing to unpack .../proj-bin_9.1.1-1~jammy0_amd64.deb ...\n",
            "Unpacking proj-bin (9.1.1-1~jammy0) ...\n",
            "Setting up proj-bin (9.1.1-1~jammy0) ...\n",
            "Processing triggers for man-db (2.10.2-1) ...\n"
          ]
        }
      ]
    },
    {
      "cell_type": "code",
      "source": [
        "!pip install cartopy"
      ],
      "metadata": {
        "colab": {
          "base_uri": "https://localhost:8080/"
        },
        "id": "LB8BZqN8L8Cm",
        "outputId": "a47e9fde-6eb1-4e9c-ba92-6098b5e7dc74"
      },
      "execution_count": 16,
      "outputs": [
        {
          "output_type": "stream",
          "name": "stdout",
          "text": [
            "Collecting cartopy\n",
            "  Downloading Cartopy-0.24.1-cp310-cp310-manylinux_2_17_x86_64.manylinux2014_x86_64.whl.metadata (7.9 kB)\n",
            "Requirement already satisfied: numpy>=1.23 in /usr/local/lib/python3.10/dist-packages (from cartopy) (1.26.4)\n",
            "Requirement already satisfied: matplotlib>=3.6 in /usr/local/lib/python3.10/dist-packages (from cartopy) (3.8.0)\n",
            "Requirement already satisfied: shapely>=1.8 in /usr/local/lib/python3.10/dist-packages (from cartopy) (2.0.6)\n",
            "Requirement already satisfied: packaging>=21 in /usr/local/lib/python3.10/dist-packages (from cartopy) (24.2)\n",
            "Requirement already satisfied: pyshp>=2.3 in /usr/local/lib/python3.10/dist-packages (from cartopy) (2.3.1)\n",
            "Requirement already satisfied: pyproj>=3.3.1 in /usr/local/lib/python3.10/dist-packages (from cartopy) (3.7.0)\n",
            "Requirement already satisfied: contourpy>=1.0.1 in /usr/local/lib/python3.10/dist-packages (from matplotlib>=3.6->cartopy) (1.3.1)\n",
            "Requirement already satisfied: cycler>=0.10 in /usr/local/lib/python3.10/dist-packages (from matplotlib>=3.6->cartopy) (0.12.1)\n",
            "Requirement already satisfied: fonttools>=4.22.0 in /usr/local/lib/python3.10/dist-packages (from matplotlib>=3.6->cartopy) (4.55.3)\n",
            "Requirement already satisfied: kiwisolver>=1.0.1 in /usr/local/lib/python3.10/dist-packages (from matplotlib>=3.6->cartopy) (1.4.7)\n",
            "Requirement already satisfied: pillow>=6.2.0 in /usr/local/lib/python3.10/dist-packages (from matplotlib>=3.6->cartopy) (11.0.0)\n",
            "Requirement already satisfied: pyparsing>=2.3.1 in /usr/local/lib/python3.10/dist-packages (from matplotlib>=3.6->cartopy) (3.2.0)\n",
            "Requirement already satisfied: python-dateutil>=2.7 in /usr/local/lib/python3.10/dist-packages (from matplotlib>=3.6->cartopy) (2.8.2)\n",
            "Requirement already satisfied: certifi in /usr/local/lib/python3.10/dist-packages (from pyproj>=3.3.1->cartopy) (2024.12.14)\n",
            "Requirement already satisfied: six>=1.5 in /usr/local/lib/python3.10/dist-packages (from python-dateutil>=2.7->matplotlib>=3.6->cartopy) (1.17.0)\n",
            "Downloading Cartopy-0.24.1-cp310-cp310-manylinux_2_17_x86_64.manylinux2014_x86_64.whl (11.7 MB)\n",
            "\u001b[2K   \u001b[90m━━━━━━━━━━━━━━━━━━━━━━━━━━━━━━━━━━━━━━━━\u001b[0m \u001b[32m11.7/11.7 MB\u001b[0m \u001b[31m55.5 MB/s\u001b[0m eta \u001b[36m0:00:00\u001b[0m\n",
            "\u001b[?25hInstalling collected packages: cartopy\n",
            "Successfully installed cartopy-0.24.1\n"
          ]
        }
      ]
    },
    {
      "cell_type": "code",
      "source": [
        "# Install cartopy\n",
        "!apt-get -qq install python-cartopy python3-cartopy\n",
        "import cartopy"
      ],
      "metadata": {
        "colab": {
          "base_uri": "https://localhost:8080/"
        },
        "id": "3BM_OzEFI5BP",
        "outputId": "cd12d8ef-f361-4043-95b6-8f2f8ce2b77d"
      },
      "execution_count": 17,
      "outputs": [
        {
          "output_type": "stream",
          "name": "stdout",
          "text": [
            "E: Unable to locate package python-cartopy\n"
          ]
        }
      ]
    },
    {
      "cell_type": "code",
      "source": [
        "%env KAGGLE_USERNAME=abcdefgh"
      ],
      "metadata": {
        "colab": {
          "base_uri": "https://localhost:8080/"
        },
        "id": "SuhdHKOjMJ4C",
        "outputId": "3190ed4f-b4c6-4c44-d760-5b550d2fffe3"
      },
      "execution_count": 18,
      "outputs": [
        {
          "output_type": "stream",
          "name": "stdout",
          "text": [
            "env: KAGGLE_USERNAME=abcdefgh\n"
          ]
        }
      ]
    },
    {
      "cell_type": "code",
      "source": [
        "from tensorflow.python.client import device_lib\n",
        "device_lib.list_local_devices()\n",
        "\n",
        "!ls /proc\n",
        "# CPU信息\n",
        "!cat /proc/cpuinfo\n",
        "# 内存\n",
        "!cat /proc/meminfo\n",
        "# 版本\n",
        "!cat /proc/version\n",
        "# 设备\n",
        "!cat /proc/devices\n",
        "# 空间\n",
        "!df"
      ],
      "metadata": {
        "colab": {
          "base_uri": "https://localhost:8080/"
        },
        "id": "FHFWAV8kMNHB",
        "outputId": "d1997b1f-586f-449b-8b5e-2057c513cf73"
      },
      "execution_count": 19,
      "outputs": [
        {
          "output_type": "stream",
          "name": "stdout",
          "text": [
            "1     1333  65\t       cpuinfo\t    ioports\t locks\t       schedstat      timer_list\n",
            "110   21    7\t       crypto\t    irq\t\t mdstat        scsi\t      tty\n",
            "111   23    883        devices\t    kallsyms\t meminfo       self\t      uptime\n",
            "1115  25    950        diskstats    kcore\t misc\t       slabinfo       version\n",
            "1117  27    acpi       dma\t    keys\t modules       softirqs       vmallocinfo\n",
            "1118  3872  buddyinfo  driver\t    key-users\t mounts        stat\t      vmstat\n",
            "1226  3878  bus        execdomains  kmsg\t mtrr\t       swaps\t      zoneinfo\n",
            "1267  3945  cgroups    filesystems  kpagecgroup  net\t       sys\n",
            "1330  3949  cmdline    fs\t    kpagecount\t pagetypeinfo  sysrq-trigger\n",
            "1331  40    config.gz  interrupts   kpageflags\t partitions    sysvipc\n",
            "1332  64    consoles   iomem\t    loadavg\t pressure      thread-self\n",
            "processor\t: 0\n",
            "vendor_id\t: GenuineIntel\n",
            "cpu family\t: 6\n",
            "model\t\t: 85\n",
            "model name\t: Intel(R) Xeon(R) CPU @ 2.00GHz\n",
            "stepping\t: 3\n",
            "microcode\t: 0xffffffff\n",
            "cpu MHz\t\t: 2000.204\n",
            "cache size\t: 39424 KB\n",
            "physical id\t: 0\n",
            "siblings\t: 2\n",
            "core id\t\t: 0\n",
            "cpu cores\t: 1\n",
            "apicid\t\t: 0\n",
            "initial apicid\t: 0\n",
            "fpu\t\t: yes\n",
            "fpu_exception\t: yes\n",
            "cpuid level\t: 13\n",
            "wp\t\t: yes\n",
            "flags\t\t: fpu vme de pse tsc msr pae mce cx8 apic sep mtrr pge mca cmov pat pse36 clflush mmx fxsr sse sse2 ss ht syscall nx pdpe1gb rdtscp lm constant_tsc rep_good nopl xtopology nonstop_tsc cpuid tsc_known_freq pni pclmulqdq ssse3 fma cx16 pcid sse4_1 sse4_2 x2apic movbe popcnt aes xsave avx f16c rdrand hypervisor lahf_lm abm 3dnowprefetch invpcid_single ssbd ibrs ibpb stibp fsgsbase tsc_adjust bmi1 hle avx2 smep bmi2 erms invpcid rtm mpx avx512f avx512dq rdseed adx smap clflushopt clwb avx512cd avx512bw avx512vl xsaveopt xsavec xgetbv1 xsaves arat md_clear arch_capabilities\n",
            "bugs\t\t: cpu_meltdown spectre_v1 spectre_v2 spec_store_bypass l1tf mds swapgs taa mmio_stale_data retbleed bhi\n",
            "bogomips\t: 4000.40\n",
            "clflush size\t: 64\n",
            "cache_alignment\t: 64\n",
            "address sizes\t: 46 bits physical, 48 bits virtual\n",
            "power management:\n",
            "\n",
            "processor\t: 1\n",
            "vendor_id\t: GenuineIntel\n",
            "cpu family\t: 6\n",
            "model\t\t: 85\n",
            "model name\t: Intel(R) Xeon(R) CPU @ 2.00GHz\n",
            "stepping\t: 3\n",
            "microcode\t: 0xffffffff\n",
            "cpu MHz\t\t: 2000.204\n",
            "cache size\t: 39424 KB\n",
            "physical id\t: 0\n",
            "siblings\t: 2\n",
            "core id\t\t: 0\n",
            "cpu cores\t: 1\n",
            "apicid\t\t: 1\n",
            "initial apicid\t: 1\n",
            "fpu\t\t: yes\n",
            "fpu_exception\t: yes\n",
            "cpuid level\t: 13\n",
            "wp\t\t: yes\n",
            "flags\t\t: fpu vme de pse tsc msr pae mce cx8 apic sep mtrr pge mca cmov pat pse36 clflush mmx fxsr sse sse2 ss ht syscall nx pdpe1gb rdtscp lm constant_tsc rep_good nopl xtopology nonstop_tsc cpuid tsc_known_freq pni pclmulqdq ssse3 fma cx16 pcid sse4_1 sse4_2 x2apic movbe popcnt aes xsave avx f16c rdrand hypervisor lahf_lm abm 3dnowprefetch invpcid_single ssbd ibrs ibpb stibp fsgsbase tsc_adjust bmi1 hle avx2 smep bmi2 erms invpcid rtm mpx avx512f avx512dq rdseed adx smap clflushopt clwb avx512cd avx512bw avx512vl xsaveopt xsavec xgetbv1 xsaves arat md_clear arch_capabilities\n",
            "bugs\t\t: cpu_meltdown spectre_v1 spectre_v2 spec_store_bypass l1tf mds swapgs taa mmio_stale_data retbleed bhi\n",
            "bogomips\t: 4000.40\n",
            "clflush size\t: 64\n",
            "cache_alignment\t: 64\n",
            "address sizes\t: 46 bits physical, 48 bits virtual\n",
            "power management:\n",
            "\n",
            "MemTotal:       13290460 kB\n",
            "MemFree:         1310940 kB\n",
            "MemAvailable:   11376332 kB\n",
            "Buffers:          216620 kB\n",
            "Cached:          9768944 kB\n",
            "SwapCached:            0 kB\n",
            "Active:          1357832 kB\n",
            "Inactive:        9860904 kB\n",
            "Active(anon):       1820 kB\n",
            "Inactive(anon):  1243800 kB\n",
            "Active(file):    1356012 kB\n",
            "Inactive(file):  8617104 kB\n",
            "Unevictable:          20 kB\n",
            "Mlocked:              20 kB\n",
            "SwapTotal:             0 kB\n",
            "SwapFree:              0 kB\n",
            "Dirty:             21700 kB\n",
            "Writeback:             0 kB\n",
            "AnonPages:       1233200 kB\n",
            "Mapped:           911084 kB\n",
            "Shmem:             12436 kB\n",
            "KReclaimable:     417680 kB\n",
            "Slab:             498520 kB\n",
            "SReclaimable:     417680 kB\n",
            "SUnreclaim:        80840 kB\n",
            "KernelStack:        7824 kB\n",
            "PageTables:        19408 kB\n",
            "SecPageTables:         0 kB\n",
            "NFS_Unstable:          0 kB\n",
            "Bounce:                0 kB\n",
            "WritebackTmp:          0 kB\n",
            "CommitLimit:     6645228 kB\n",
            "Committed_AS:    4421360 kB\n",
            "VmallocTotal:   34359738367 kB\n",
            "VmallocUsed:       85988 kB\n",
            "VmallocChunk:          0 kB\n",
            "Percpu:             1144 kB\n",
            "HardwareCorrupted:     0 kB\n",
            "AnonHugePages:         0 kB\n",
            "ShmemHugePages:        0 kB\n",
            "ShmemPmdMapped:        0 kB\n",
            "FileHugePages:         0 kB\n",
            "FilePmdMapped:         0 kB\n",
            "CmaTotal:              0 kB\n",
            "CmaFree:               0 kB\n",
            "Unaccepted:            0 kB\n",
            "HugePages_Total:       0\n",
            "HugePages_Free:        0\n",
            "HugePages_Rsvd:        0\n",
            "HugePages_Surp:        0\n",
            "Hugepagesize:       2048 kB\n",
            "Hugetlb:               0 kB\n",
            "DirectMap4k:      242488 kB\n",
            "DirectMap2M:     7094272 kB\n",
            "DirectMap1G:     8388608 kB\n",
            "Linux version 6.1.85+ (builder@faf02fc191fd) (Chromium OS 16.0_pre484197_p20230405-r10 clang version 16.0.0 (/var/tmp/portage/sys-devel/llvm-16.0_pre484197_p20230405-r10/work/llvm-16.0_pre484197_p20230405/clang 2916b99182752b1aece8cc4479d8d6a20b5e02da), LLD 16.0.0) #1 SMP PREEMPT_DYNAMIC Thu Jun 27 21:05:47 UTC 2024\n",
            "Character devices:\n",
            "  1 mem\n",
            "  4 /dev/vc/0\n",
            "  4 tty\n",
            "  4 ttyS\n",
            "  5 /dev/tty\n",
            "  5 /dev/console\n",
            "  5 /dev/ptmx\n",
            "  7 vcs\n",
            " 10 misc\n",
            " 13 input\n",
            "128 ptm\n",
            "136 pts\n",
            "195 nvidia-frontend\n",
            "202 cpu/msr\n",
            "203 cpu/cpuid\n",
            "242 nvidia-uvm\n",
            "243 nvidia-nvswitch\n",
            "244 nvidia-nvlink\n",
            "245 nvidia-caps\n",
            "246 nvme-generic\n",
            "247 nvme\n",
            "248 bsg\n",
            "249 watchdog\n",
            "250 ptp\n",
            "251 pps\n",
            "252 rtc\n",
            "253 dax\n",
            "254 tpm\n",
            "\n",
            "Block devices:\n",
            "  7 loop\n",
            "  8 sd\n",
            "  9 md\n",
            " 11 sr\n",
            " 65 sd\n",
            " 66 sd\n",
            " 67 sd\n",
            " 68 sd\n",
            " 69 sd\n",
            " 70 sd\n",
            " 71 sd\n",
            "128 sd\n",
            "129 sd\n",
            "130 sd\n",
            "131 sd\n",
            "132 sd\n",
            "133 sd\n",
            "134 sd\n",
            "135 sd\n",
            "253 device-mapper\n",
            "254 mdp\n",
            "259 blkext\n",
            "Filesystem     1K-blocks     Used Available Use% Mounted on\n",
            "overlay        118108032 36621900  81469748  32% /\n",
            "tmpfs              65536        0     65536   0% /dev\n",
            "shm              5958656        0   5958656   0% /dev/shm\n",
            "/dev/root        2019696  1180612    839084  59% /usr/sbin/docker-init\n",
            "/dev/sda1       70967700 40967172  29984144  58% /opt/bin/.nvidia\n",
            "tmpfs            6645228      556   6644672   1% /var/colab\n",
            "tmpfs            6645228        0   6645228   0% /proc/acpi\n",
            "tmpfs            6645228        0   6645228   0% /proc/scsi\n",
            "tmpfs            6645228        0   6645228   0% /sys/firmware\n",
            "drive           15728640  2154636  13574004  14% /content/drive\n"
          ]
        }
      ]
    },
    {
      "cell_type": "code",
      "source": [
        "!nvidia-smi\n"
      ],
      "metadata": {
        "colab": {
          "base_uri": "https://localhost:8080/"
        },
        "id": "1jcox_daMe59",
        "outputId": "5a7d9195-7f0c-4114-9743-cc6c2855c889"
      },
      "execution_count": 20,
      "outputs": [
        {
          "output_type": "stream",
          "name": "stdout",
          "text": [
            "Wed Jan  1 10:47:17 2025       \n",
            "+---------------------------------------------------------------------------------------+\n",
            "| NVIDIA-SMI 535.104.05             Driver Version: 535.104.05   CUDA Version: 12.2     |\n",
            "|-----------------------------------------+----------------------+----------------------+\n",
            "| GPU  Name                 Persistence-M | Bus-Id        Disp.A | Volatile Uncorr. ECC |\n",
            "| Fan  Temp   Perf          Pwr:Usage/Cap |         Memory-Usage | GPU-Util  Compute M. |\n",
            "|                                         |                      |               MIG M. |\n",
            "|=========================================+======================+======================|\n",
            "|   0  Tesla T4                       Off | 00000000:00:04.0 Off |                    0 |\n",
            "| N/A   36C    P0              25W /  70W |    103MiB / 15360MiB |      0%      Default |\n",
            "|                                         |                      |                  N/A |\n",
            "+-----------------------------------------+----------------------+----------------------+\n",
            "                                                                                         \n",
            "+---------------------------------------------------------------------------------------+\n",
            "| Processes:                                                                            |\n",
            "|  GPU   GI   CI        PID   Type   Process name                            GPU Memory |\n",
            "|        ID   ID                                                             Usage      |\n",
            "|=======================================================================================|\n",
            "+---------------------------------------------------------------------------------------+\n"
          ]
        }
      ]
    },
    {
      "cell_type": "code",
      "source": [
        "import tensorflow as tf\n",
        "\n",
        "# 列出可用的設備\n",
        "physical_devices = tf.config.list_physical_devices('GPU')\n",
        "print(\"Available GPU devices:\", physical_devices)\n",
        "\n",
        "# 測試 TensorFlow 是否正在使用 GPU\n",
        "tf.debugging.set_log_device_placement(True)\n",
        "a = tf.constant([[1.0, 2.0, 3.0]])\n",
        "b = tf.constant([[4.0], [5.0], [6.0]])\n",
        "c = tf.matmul(a, b)\n",
        "print(c)\n"
      ],
      "metadata": {
        "colab": {
          "base_uri": "https://localhost:8080/"
        },
        "id": "ltIwn4raMnbH",
        "outputId": "eec68c94-bd0c-499f-eec0-384f53e8f2e0"
      },
      "execution_count": 21,
      "outputs": [
        {
          "output_type": "stream",
          "name": "stdout",
          "text": [
            "Available GPU devices: [PhysicalDevice(name='/physical_device:GPU:0', device_type='GPU')]\n",
            "Executing op _EagerConst in device /job:localhost/replica:0/task:0/device:GPU:0\n",
            "Executing op _EagerConst in device /job:localhost/replica:0/task:0/device:GPU:0\n",
            "Executing op MatMul in device /job:localhost/replica:0/task:0/device:GPU:0\n",
            "tf.Tensor([[32.]], shape=(1, 1), dtype=float32)\n"
          ]
        }
      ]
    },
    {
      "cell_type": "code",
      "source": [
        "import tensorflow as tf\n",
        "device_name = tf.test.gpu_device_name()\n",
        "if device_name != '/device:GPU:0':\n",
        "  raise SystemError('GPU device not found')\n",
        "print('Found GPU at: {}'.format(device_name))"
      ],
      "metadata": {
        "colab": {
          "base_uri": "https://localhost:8080/"
        },
        "id": "Fryg6GjvMSLd",
        "outputId": "4824385f-1649-45f7-d039-8bbc3ea39b0b"
      },
      "execution_count": 22,
      "outputs": [
        {
          "output_type": "stream",
          "name": "stdout",
          "text": [
            "Found GPU at: /device:GPU:0\n"
          ]
        }
      ]
    },
    {
      "cell_type": "code",
      "source": [
        "import tensorflow as tf\n",
        "import timeit\n",
        "\n",
        "# 確保 GPU 設置正確\n",
        "gpus = tf.config.experimental.list_physical_devices('GPU')\n",
        "if gpus:\n",
        "    try:\n",
        "        for gpu in gpus:\n",
        "            tf.config.experimental.set_memory_growth(gpu, True)\n",
        "        print(\"GPU memory growth enabled\")\n",
        "    except RuntimeError as e:\n",
        "        print(e)\n",
        "\n",
        "# 定義操作\n",
        "@tf.function\n",
        "def cpu():\n",
        "    random_image_cpu = tf.random.normal((100, 100, 100, 3))\n",
        "    net_cpu = tf.nn.conv2d(random_image_cpu[tf.newaxis, ...],\n",
        "                           filters=tf.random.normal((7, 7, 3, 32)),\n",
        "                           strides=1,\n",
        "                           padding='SAME')\n",
        "    return tf.reduce_sum(net_cpu)\n",
        "\n",
        "@tf.function\n",
        "def gpu():\n",
        "    random_image_gpu = tf.random.normal((100, 100, 100, 3))\n",
        "    net_gpu = tf.nn.conv2d(random_image_gpu[tf.newaxis, ...],\n",
        "                           filters=tf.random.normal((7, 7, 3, 32)),\n",
        "                           strides=1,\n",
        "                           padding='SAME')\n",
        "    return tf.reduce_sum(net_gpu)\n",
        "\n",
        "# 測試執行\n",
        "print('Time (s) to convolve 32x7x7x3 filter over random 100x100x100x3 images '\n",
        "      '(batch x height x width x channel). Sum of ten runs.')\n",
        "\n",
        "# CPU 測試\n",
        "with tf.device('/CPU:0'):\n",
        "    cpu_time = timeit.timeit(cpu, number=10)\n",
        "    print(f\"CPU (s): {cpu_time}\")\n",
        "\n",
        "# GPU 測試\n",
        "with tf.device('/GPU:0'):\n",
        "    gpu_time = timeit.timeit(gpu, number=10)\n",
        "    print(f\"GPU (s): {gpu_time}\")\n",
        "\n",
        "# 計算 GPU 加速比\n",
        "print('GPU speedup over CPU: {:.2f}x'.format(cpu_time / gpu_time))\n"
      ],
      "metadata": {
        "colab": {
          "base_uri": "https://localhost:8080/"
        },
        "id": "eMRN35vXMXPc",
        "outputId": "f10e3865-5c6b-41af-f3e7-6a0124bf548e"
      },
      "execution_count": 23,
      "outputs": [
        {
          "output_type": "stream",
          "name": "stdout",
          "text": [
            "Physical devices cannot be modified after being initialized\n",
            "Time (s) to convolve 32x7x7x3 filter over random 100x100x100x3 images (batch x height x width x channel). Sum of ten runs.\n",
            "Executing op __inference_cpu_32 in device /job:localhost/replica:0/task:0/device:CPU:0\n",
            "Executing op __inference_cpu_32 in device /job:localhost/replica:0/task:0/device:CPU:0\n",
            "Executing op __inference_cpu_32 in device /job:localhost/replica:0/task:0/device:CPU:0\n",
            "Executing op __inference_cpu_32 in device /job:localhost/replica:0/task:0/device:CPU:0\n",
            "Executing op __inference_cpu_32 in device /job:localhost/replica:0/task:0/device:CPU:0\n",
            "Executing op __inference_cpu_32 in device /job:localhost/replica:0/task:0/device:CPU:0\n",
            "Executing op __inference_cpu_32 in device /job:localhost/replica:0/task:0/device:CPU:0\n",
            "Executing op __inference_cpu_32 in device /job:localhost/replica:0/task:0/device:CPU:0\n",
            "Executing op __inference_cpu_32 in device /job:localhost/replica:0/task:0/device:CPU:0\n",
            "Executing op __inference_cpu_32 in device /job:localhost/replica:0/task:0/device:CPU:0\n",
            "CPU (s): 10.150002388000019\n",
            "Executing op __inference_gpu_71 in device /job:localhost/replica:0/task:0/device:GPU:0\n",
            "Executing op __inference_gpu_71 in device /job:localhost/replica:0/task:0/device:GPU:0\n",
            "Executing op __inference_gpu_71 in device /job:localhost/replica:0/task:0/device:GPU:0\n",
            "Executing op __inference_gpu_71 in device /job:localhost/replica:0/task:0/device:GPU:0\n",
            "Executing op __inference_gpu_71 in device /job:localhost/replica:0/task:0/device:GPU:0\n",
            "Executing op __inference_gpu_71 in device /job:localhost/replica:0/task:0/device:GPU:0\n",
            "Executing op __inference_gpu_71 in device /job:localhost/replica:0/task:0/device:GPU:0\n",
            "Executing op __inference_gpu_71 in device /job:localhost/replica:0/task:0/device:GPU:0\n",
            "Executing op __inference_gpu_71 in device /job:localhost/replica:0/task:0/device:GPU:0\n",
            "Executing op __inference_gpu_71 in device /job:localhost/replica:0/task:0/device:GPU:0\n",
            "GPU (s): 1.50050154500002\n",
            "GPU speedup over CPU: 6.76x\n"
          ]
        }
      ]
    },
    {
      "cell_type": "code",
      "source": [
        "!pip install jupyter_http_over_ws\n",
        "!jupyter serverextension enable --py jupyter_http_over_ws"
      ],
      "metadata": {
        "colab": {
          "base_uri": "https://localhost:8080/"
        },
        "id": "oJ3O5ZrVM9EG",
        "outputId": "6235fa0e-c718-4a6b-c4d7-5867ed1d9c82",
        "collapsed": true
      },
      "execution_count": 24,
      "outputs": [
        {
          "output_type": "stream",
          "name": "stdout",
          "text": [
            "Collecting jupyter_http_over_ws\n",
            "  Downloading jupyter_http_over_ws-0.0.8-py2.py3-none-any.whl.metadata (1.1 kB)\n",
            "Requirement already satisfied: notebook>=5.0 in /usr/local/lib/python3.10/dist-packages (from jupyter_http_over_ws) (6.5.5)\n",
            "Requirement already satisfied: six>=1.6.0 in /usr/local/lib/python3.10/dist-packages (from jupyter_http_over_ws) (1.17.0)\n",
            "Requirement already satisfied: tornado>=4.5 in /usr/local/lib/python3.10/dist-packages (from jupyter_http_over_ws) (6.3.3)\n",
            "Requirement already satisfied: jinja2 in /usr/local/lib/python3.10/dist-packages (from notebook>=5.0->jupyter_http_over_ws) (3.1.4)\n",
            "Requirement already satisfied: pyzmq<25,>=17 in /usr/local/lib/python3.10/dist-packages (from notebook>=5.0->jupyter_http_over_ws) (24.0.1)\n",
            "Requirement already satisfied: argon2-cffi in /usr/local/lib/python3.10/dist-packages (from notebook>=5.0->jupyter_http_over_ws) (23.1.0)\n",
            "Requirement already satisfied: traitlets>=4.2.1 in /usr/local/lib/python3.10/dist-packages (from notebook>=5.0->jupyter_http_over_ws) (5.7.1)\n",
            "Requirement already satisfied: jupyter-core>=4.6.1 in /usr/local/lib/python3.10/dist-packages (from notebook>=5.0->jupyter_http_over_ws) (5.7.2)\n",
            "Requirement already satisfied: jupyter-client<8,>=5.3.4 in /usr/local/lib/python3.10/dist-packages (from notebook>=5.0->jupyter_http_over_ws) (6.1.12)\n",
            "Requirement already satisfied: ipython-genutils in /usr/local/lib/python3.10/dist-packages (from notebook>=5.0->jupyter_http_over_ws) (0.2.0)\n",
            "Requirement already satisfied: nbformat in /usr/local/lib/python3.10/dist-packages (from notebook>=5.0->jupyter_http_over_ws) (5.10.4)\n",
            "Requirement already satisfied: nbconvert>=5 in /usr/local/lib/python3.10/dist-packages (from notebook>=5.0->jupyter_http_over_ws) (7.16.4)\n",
            "Requirement already satisfied: nest-asyncio>=1.5 in /usr/local/lib/python3.10/dist-packages (from notebook>=5.0->jupyter_http_over_ws) (1.6.0)\n",
            "Requirement already satisfied: ipykernel in /usr/local/lib/python3.10/dist-packages (from notebook>=5.0->jupyter_http_over_ws) (5.5.6)\n",
            "Requirement already satisfied: Send2Trash>=1.8.0 in /usr/local/lib/python3.10/dist-packages (from notebook>=5.0->jupyter_http_over_ws) (1.8.3)\n",
            "Requirement already satisfied: terminado>=0.8.3 in /usr/local/lib/python3.10/dist-packages (from notebook>=5.0->jupyter_http_over_ws) (0.18.1)\n",
            "Requirement already satisfied: prometheus-client in /usr/local/lib/python3.10/dist-packages (from notebook>=5.0->jupyter_http_over_ws) (0.21.1)\n",
            "Requirement already satisfied: nbclassic>=0.4.7 in /usr/local/lib/python3.10/dist-packages (from notebook>=5.0->jupyter_http_over_ws) (1.1.0)\n",
            "Requirement already satisfied: python-dateutil>=2.1 in /usr/local/lib/python3.10/dist-packages (from jupyter-client<8,>=5.3.4->notebook>=5.0->jupyter_http_over_ws) (2.8.2)\n",
            "Requirement already satisfied: platformdirs>=2.5 in /usr/local/lib/python3.10/dist-packages (from jupyter-core>=4.6.1->notebook>=5.0->jupyter_http_over_ws) (4.3.6)\n",
            "Requirement already satisfied: notebook-shim>=0.2.3 in /usr/local/lib/python3.10/dist-packages (from nbclassic>=0.4.7->notebook>=5.0->jupyter_http_over_ws) (0.2.4)\n",
            "Requirement already satisfied: beautifulsoup4 in /usr/local/lib/python3.10/dist-packages (from nbconvert>=5->notebook>=5.0->jupyter_http_over_ws) (4.12.3)\n",
            "Requirement already satisfied: bleach!=5.0.0 in /usr/local/lib/python3.10/dist-packages (from nbconvert>=5->notebook>=5.0->jupyter_http_over_ws) (6.2.0)\n",
            "Requirement already satisfied: defusedxml in /usr/local/lib/python3.10/dist-packages (from nbconvert>=5->notebook>=5.0->jupyter_http_over_ws) (0.7.1)\n",
            "Requirement already satisfied: jupyterlab-pygments in /usr/local/lib/python3.10/dist-packages (from nbconvert>=5->notebook>=5.0->jupyter_http_over_ws) (0.3.0)\n",
            "Requirement already satisfied: markupsafe>=2.0 in /usr/local/lib/python3.10/dist-packages (from nbconvert>=5->notebook>=5.0->jupyter_http_over_ws) (3.0.2)\n",
            "Requirement already satisfied: mistune<4,>=2.0.3 in /usr/local/lib/python3.10/dist-packages (from nbconvert>=5->notebook>=5.0->jupyter_http_over_ws) (3.0.2)\n",
            "Requirement already satisfied: nbclient>=0.5.0 in /usr/local/lib/python3.10/dist-packages (from nbconvert>=5->notebook>=5.0->jupyter_http_over_ws) (0.10.1)\n",
            "Requirement already satisfied: packaging in /usr/local/lib/python3.10/dist-packages (from nbconvert>=5->notebook>=5.0->jupyter_http_over_ws) (24.2)\n",
            "Requirement already satisfied: pandocfilters>=1.4.1 in /usr/local/lib/python3.10/dist-packages (from nbconvert>=5->notebook>=5.0->jupyter_http_over_ws) (1.5.1)\n",
            "Requirement already satisfied: pygments>=2.4.1 in /usr/local/lib/python3.10/dist-packages (from nbconvert>=5->notebook>=5.0->jupyter_http_over_ws) (2.18.0)\n",
            "Requirement already satisfied: tinycss2 in /usr/local/lib/python3.10/dist-packages (from nbconvert>=5->notebook>=5.0->jupyter_http_over_ws) (1.4.0)\n",
            "Requirement already satisfied: fastjsonschema>=2.15 in /usr/local/lib/python3.10/dist-packages (from nbformat->notebook>=5.0->jupyter_http_over_ws) (2.21.1)\n",
            "Requirement already satisfied: jsonschema>=2.6 in /usr/local/lib/python3.10/dist-packages (from nbformat->notebook>=5.0->jupyter_http_over_ws) (4.23.0)\n",
            "Requirement already satisfied: ptyprocess in /usr/local/lib/python3.10/dist-packages (from terminado>=0.8.3->notebook>=5.0->jupyter_http_over_ws) (0.7.0)\n",
            "Requirement already satisfied: argon2-cffi-bindings in /usr/local/lib/python3.10/dist-packages (from argon2-cffi->notebook>=5.0->jupyter_http_over_ws) (21.2.0)\n",
            "Requirement already satisfied: ipython>=5.0.0 in /usr/local/lib/python3.10/dist-packages (from ipykernel->notebook>=5.0->jupyter_http_over_ws) (7.34.0)\n",
            "Requirement already satisfied: webencodings in /usr/local/lib/python3.10/dist-packages (from bleach!=5.0.0->nbconvert>=5->notebook>=5.0->jupyter_http_over_ws) (0.5.1)\n",
            "Requirement already satisfied: setuptools>=18.5 in /usr/local/lib/python3.10/dist-packages (from ipython>=5.0.0->ipykernel->notebook>=5.0->jupyter_http_over_ws) (75.1.0)\n",
            "Collecting jedi>=0.16 (from ipython>=5.0.0->ipykernel->notebook>=5.0->jupyter_http_over_ws)\n",
            "  Downloading jedi-0.19.2-py2.py3-none-any.whl.metadata (22 kB)\n",
            "Requirement already satisfied: decorator in /usr/local/lib/python3.10/dist-packages (from ipython>=5.0.0->ipykernel->notebook>=5.0->jupyter_http_over_ws) (4.4.2)\n",
            "Requirement already satisfied: pickleshare in /usr/local/lib/python3.10/dist-packages (from ipython>=5.0.0->ipykernel->notebook>=5.0->jupyter_http_over_ws) (0.7.5)\n",
            "Requirement already satisfied: prompt-toolkit!=3.0.0,!=3.0.1,<3.1.0,>=2.0.0 in /usr/local/lib/python3.10/dist-packages (from ipython>=5.0.0->ipykernel->notebook>=5.0->jupyter_http_over_ws) (3.0.48)\n",
            "Requirement already satisfied: backcall in /usr/local/lib/python3.10/dist-packages (from ipython>=5.0.0->ipykernel->notebook>=5.0->jupyter_http_over_ws) (0.2.0)\n",
            "Requirement already satisfied: matplotlib-inline in /usr/local/lib/python3.10/dist-packages (from ipython>=5.0.0->ipykernel->notebook>=5.0->jupyter_http_over_ws) (0.1.7)\n",
            "Requirement already satisfied: pexpect>4.3 in /usr/local/lib/python3.10/dist-packages (from ipython>=5.0.0->ipykernel->notebook>=5.0->jupyter_http_over_ws) (4.9.0)\n",
            "Requirement already satisfied: attrs>=22.2.0 in /usr/local/lib/python3.10/dist-packages (from jsonschema>=2.6->nbformat->notebook>=5.0->jupyter_http_over_ws) (24.3.0)\n",
            "Requirement already satisfied: jsonschema-specifications>=2023.03.6 in /usr/local/lib/python3.10/dist-packages (from jsonschema>=2.6->nbformat->notebook>=5.0->jupyter_http_over_ws) (2024.10.1)\n",
            "Requirement already satisfied: referencing>=0.28.4 in /usr/local/lib/python3.10/dist-packages (from jsonschema>=2.6->nbformat->notebook>=5.0->jupyter_http_over_ws) (0.35.1)\n",
            "Requirement already satisfied: rpds-py>=0.7.1 in /usr/local/lib/python3.10/dist-packages (from jsonschema>=2.6->nbformat->notebook>=5.0->jupyter_http_over_ws) (0.22.3)\n",
            "Requirement already satisfied: jupyter-server<3,>=1.8 in /usr/local/lib/python3.10/dist-packages (from notebook-shim>=0.2.3->nbclassic>=0.4.7->notebook>=5.0->jupyter_http_over_ws) (1.24.0)\n",
            "Requirement already satisfied: cffi>=1.0.1 in /usr/local/lib/python3.10/dist-packages (from argon2-cffi-bindings->argon2-cffi->notebook>=5.0->jupyter_http_over_ws) (1.17.1)\n",
            "Requirement already satisfied: soupsieve>1.2 in /usr/local/lib/python3.10/dist-packages (from beautifulsoup4->nbconvert>=5->notebook>=5.0->jupyter_http_over_ws) (2.6)\n",
            "Requirement already satisfied: pycparser in /usr/local/lib/python3.10/dist-packages (from cffi>=1.0.1->argon2-cffi-bindings->argon2-cffi->notebook>=5.0->jupyter_http_over_ws) (2.22)\n",
            "Requirement already satisfied: parso<0.9.0,>=0.8.4 in /usr/local/lib/python3.10/dist-packages (from jedi>=0.16->ipython>=5.0.0->ipykernel->notebook>=5.0->jupyter_http_over_ws) (0.8.4)\n",
            "Requirement already satisfied: anyio<4,>=3.1.0 in /usr/local/lib/python3.10/dist-packages (from jupyter-server<3,>=1.8->notebook-shim>=0.2.3->nbclassic>=0.4.7->notebook>=5.0->jupyter_http_over_ws) (3.7.1)\n",
            "Requirement already satisfied: websocket-client in /usr/local/lib/python3.10/dist-packages (from jupyter-server<3,>=1.8->notebook-shim>=0.2.3->nbclassic>=0.4.7->notebook>=5.0->jupyter_http_over_ws) (1.8.0)\n",
            "Requirement already satisfied: wcwidth in /usr/local/lib/python3.10/dist-packages (from prompt-toolkit!=3.0.0,!=3.0.1,<3.1.0,>=2.0.0->ipython>=5.0.0->ipykernel->notebook>=5.0->jupyter_http_over_ws) (0.2.13)\n",
            "Requirement already satisfied: idna>=2.8 in /usr/local/lib/python3.10/dist-packages (from anyio<4,>=3.1.0->jupyter-server<3,>=1.8->notebook-shim>=0.2.3->nbclassic>=0.4.7->notebook>=5.0->jupyter_http_over_ws) (3.10)\n",
            "Requirement already satisfied: sniffio>=1.1 in /usr/local/lib/python3.10/dist-packages (from anyio<4,>=3.1.0->jupyter-server<3,>=1.8->notebook-shim>=0.2.3->nbclassic>=0.4.7->notebook>=5.0->jupyter_http_over_ws) (1.3.1)\n",
            "Requirement already satisfied: exceptiongroup in /usr/local/lib/python3.10/dist-packages (from anyio<4,>=3.1.0->jupyter-server<3,>=1.8->notebook-shim>=0.2.3->nbclassic>=0.4.7->notebook>=5.0->jupyter_http_over_ws) (1.2.2)\n",
            "Downloading jupyter_http_over_ws-0.0.8-py2.py3-none-any.whl (18 kB)\n",
            "Downloading jedi-0.19.2-py2.py3-none-any.whl (1.6 MB)\n",
            "\u001b[2K   \u001b[90m━━━━━━━━━━━━━━━━━━━━━━━━━━━━━━━━━━━━━━━━\u001b[0m \u001b[32m1.6/1.6 MB\u001b[0m \u001b[31m32.0 MB/s\u001b[0m eta \u001b[36m0:00:00\u001b[0m\n",
            "\u001b[?25hInstalling collected packages: jedi, jupyter_http_over_ws\n",
            "Successfully installed jedi-0.19.2 jupyter_http_over_ws-0.0.8\n",
            "Enabling: jupyter_http_over_ws\n",
            "- Writing config: /root/.jupyter\n",
            "    - Validating...\n",
            "      jupyter_http_over_ws 0.0.7 \u001b[32mOK\u001b[0m\n"
          ]
        }
      ]
    },
    {
      "cell_type": "code",
      "source": [
        "!jupyter notebook \\\n",
        "  --NotebookApp.allow_origin='https://colab.research.google.com' \\\n",
        "  --port=8888 \\\n",
        "  --NotebookApp.port_retries=0"
      ],
      "metadata": {
        "colab": {
          "base_uri": "https://localhost:8080/"
        },
        "id": "LaR_5LwoKWj7",
        "outputId": "9cfa6513-2482-45cf-c2dd-7e4c0514570d"
      },
      "execution_count": 25,
      "outputs": [
        {
          "output_type": "stream",
          "name": "stdout",
          "text": [
            "|DEBUG|Paths used for configuration of jupyter_notebook_config: \n",
            "    \t/etc/jupyter/jupyter_notebook_config.json\n",
            "|DEBUG|Paths used for configuration of jupyter_notebook_config: \n",
            "    \t/usr/local/etc/jupyter/jupyter_notebook_config.d/ipyparallel.json\n",
            "    \t/usr/local/etc/jupyter/jupyter_notebook_config.d/panel-client-jupyter.json\n",
            "    \t/usr/local/etc/jupyter/jupyter_notebook_config.json\n",
            "|DEBUG|Paths used for configuration of jupyter_notebook_config: \n",
            "    \t/usr/etc/jupyter/jupyter_notebook_config.json\n",
            "|DEBUG|Paths used for configuration of jupyter_notebook_config: \n",
            "    \t/root/.local/etc/jupyter/jupyter_notebook_config.json\n",
            "|DEBUG|Paths used for configuration of jupyter_notebook_config: \n",
            "    \t/root/.jupyter/jupyter_notebook_config.json\n",
            "\n",
            "  _   _          _      _\n",
            " | | | |_ __  __| |__ _| |_ ___\n",
            " | |_| | '_ \\/ _` / _` |  _/ -_)\n",
            "  \\___/| .__/\\__,_\\__,_|\\__\\___|\n",
            "       |_|\n",
            "                       \n",
            "Read the migration plan to Notebook 7 to learn about the new features and the actions to take if you are using extensions.\n",
            "\n",
            "https://jupyter-notebook.readthedocs.io/en/latest/migrate_to_notebook7.html\n",
            "\n",
            "Please note that updating to Notebook 7 might break some of your extensions.\n",
            "\n",
            "|INFO|google.colab serverextension initialized.\n",
            "|INFO|Loading IPython parallel extension\n",
            "jupyter_http_over_ws extension initialized. Listening on /http_over_websocket\n",
            "|INFO|Serving notebooks from local directory: /content/drive/MyDrive/未命名資料夾/期末報告\n",
            "|INFO|Jupyter Notebook 6.5.5 is running at:\n",
            "|INFO|http://localhost:8888/?token=496f81843e846871010e65e1845f1aa8835bce6926814f85\n",
            "|INFO| or http://127.0.0.1:8888/?token=496f81843e846871010e65e1845f1aa8835bce6926814f85\n",
            "|INFO|Use Control-C to stop this server and shut down all kernels (twice to skip confirmation).\n",
            "|CRITICAL|\n",
            "    \n",
            "    To access the notebook, open this file in a browser:\n",
            "        file:///root/.local/share/jupyter/runtime/nbserver-4040-open.html\n",
            "    Or copy and paste one of these URLs:\n",
            "        http://localhost:8888/?token=496f81843e846871010e65e1845f1aa8835bce6926814f85\n",
            "     or http://127.0.0.1:8888/?token=496f81843e846871010e65e1845f1aa8835bce6926814f85\n",
            "|CRITICAL|received signal 2, stopping\n",
            "|INFO|interrupted\n",
            "|INFO|Shutting down 0 kernels\n",
            "|INFO|Shutting down 0 terminals\n"
          ]
        }
      ]
    },
    {
      "cell_type": "code",
      "source": [],
      "metadata": {
        "id": "6hbd1Y9GLURw"
      },
      "execution_count": null,
      "outputs": []
    },
    {
      "cell_type": "code",
      "source": [
        "import os\n",
        "path = \"/content/drive/MyDrive/未命名資料夾/期末報告\"\n",
        "os.chdir(path)\n",
        "os.listdir(path)"
      ],
      "metadata": {
        "colab": {
          "base_uri": "https://localhost:8080/"
        },
        "id": "xTlVWWz1NcVO",
        "outputId": "b11d33db-77ea-4c31-d15c-970c62f5fadb"
      },
      "execution_count": 26,
      "outputs": [
        {
          "output_type": "execute_result",
          "data": {
            "text/plain": [
              "['year.py',\n",
              " 'Final_Report.ipynb',\n",
              " 'data.csv',\n",
              " 'example.txt',\n",
              " 'drive',\n",
              " 'Untitled0.ipynb']"
            ]
          },
          "metadata": {},
          "execution_count": 26
        }
      ]
    },
    {
      "cell_type": "code",
      "source": [
        "from google.colab import drive\n",
        "drive.mount(\"/content/drive\")\n",
        "\n",
        "print('Files in Drive:')\n",
        "!ls /content/drive/'My Drive'"
      ],
      "metadata": {
        "colab": {
          "base_uri": "https://localhost:8080/"
        },
        "id": "luf91gttNhuT",
        "outputId": "a044a728-8217-46a5-a6fb-b38f964e816d"
      },
      "execution_count": 27,
      "outputs": [
        {
          "output_type": "stream",
          "name": "stdout",
          "text": [
            "Drive already mounted at /content/drive; to attempt to forcibly remount, call drive.mount(\"/content/drive\", force_remount=True).\n",
            "Files in Drive:\n",
            " 0106\n",
            " 0301.jpg\n",
            " 0302.jpg\n",
            " 0303.jpg\n",
            " 0304.jpg\n",
            " 0305.jpg\n",
            " 0306.jpg\n",
            " 0307.jpg\n",
            " 0308.jpg\n",
            " 0309.jpg\n",
            " 0310.jpg\n",
            " 0311.jpg\n",
            " 0312.jpg\n",
            " 0313.jpg\n",
            " 0314.jpg\n",
            " 1\n",
            " 1007.tm\n",
            "'11124142 呂元福 正念期中.pptx'\n",
            " 1118\n",
            " 1202\n",
            " 14_高中國文4閱讀素養提問引導學習單學用_第11課-戰士乾杯.docx\n",
            "'20200511_135248 (1).jpg'\n",
            " 20200511_135248.jpg\n",
            " 20200511_135254.jpg\n",
            " 20200511_135259.jpg\n",
            " 20200511_135306.jpg\n",
            " 20200511_135311.jpg\n",
            " 20200511_135316.jpg\n",
            " 20200511_135329.jpg\n",
            " 20200511_135436.jpg\n",
            " 20200511_135444.jpg\n",
            " 20200511_135449.jpg\n",
            " 20200511_135453.jpg\n",
            " 20200511_135503.jpg\n",
            " 20200511_141029.jpg\n",
            " 20200511_141043.jpg\n",
            " 20200511_141046.jpg\n",
            " 20200511_141059.jpg\n",
            " 20200511_141115.jpg\n",
            " 20200511_141122.jpg\n",
            " 20200511_141127.jpg\n",
            "'20200511_141133 (1).jpg'\n",
            " 20200511_141133.jpg\n",
            " 20200511_141140.jpg\n",
            " 20200511_141145.jpg\n",
            " 20200511_141151.jpg\n",
            " 80806.jpg\n",
            " 80807.jpg\n",
            " 80808.jpg\n",
            " 80809.jpg\n",
            " 80810.jpg\n",
            " 80811.jpg\n",
            " 80813.jpg\n",
            " 80814.jpg\n",
            " 80816.jpg\n",
            " 80817.jpg\n",
            " 80818.jpg\n",
            " 80819.jpg\n",
            " Classroom\n",
            "'Colab Notebooks'\n",
            " foo.txt\n",
            " GEPT\n",
            "'GEPT (1)'\n",
            " IMG_0252.MOV\n",
            "'IMG_0253 (1).MOV'\n",
            " IMG_0253.MOV\n",
            "'IMG_0254 (1).MOV'\n",
            " IMG_0254.MOV\n",
            "'IMG_0255 (1).MOV'\n",
            " IMG_0255.MOV\n",
            " IMG_0257.MOV\n",
            " IMG_0259.MOV\n",
            " IMG_0263.MOV\n",
            " IMG_0267.MOV\n",
            " IMG_0268.MOV\n",
            " IMG20200727094219.jpg\n",
            " IMG20200727094224.jpg\n",
            " IMG20210508170448.jpg\n",
            "'IMG20210508170606 (1).jpg'\n",
            "'IMG20210508170606 (2).jpg'\n",
            " IMG20210508170606.jpg\n",
            " IMG20210508170917.jpg\n",
            "'IMG20210508171030 (1).jpg'\n",
            "'IMG20210508171030 (2).jpg'\n",
            " IMG20210508171030.jpg\n",
            "'IMG20210527142804 (1).jpg'\n",
            " IMG20210527142804.jpg\n",
            "'IMG20210527142811 (1).jpg'\n",
            " IMG20210527142811.jpg\n",
            " IMG20210527142823.jpg\n",
            "'IMG20210527142836 (1).jpg'\n",
            " IMG20210527142836.jpg\n",
            "'IMG20210527142842 (1).jpg'\n",
            " IMG20210527142842.jpg\n",
            " IMG20210527142848.jpg\n",
            " IMG20210527142851.jpg\n",
            " IMG20210614184027.jpg\n",
            " IMG20210614184033.jpg\n",
            " IMG20210614184044.jpg\n",
            " IMG20210614184056.jpg\n",
            " IMG20210614184108.jpg\n",
            " IMG20210614184117.jpg\n",
            "'My image model.tm'\n",
            " PyDriveSample.txt\n",
            " python\n",
            " python1104\n",
            " Screenshot_2021-06-29-10-43-25-54.jpg\n",
            " SkyblockByMiki3390.wld\n",
            " studio64.exe\n",
            " terraria.zip\n",
            " Untitled0.ipynb\n",
            " 中文課\n",
            "'中文閱讀 辯論'\n",
            " 個人資料.gsite\n",
            "\" '化學實驗'.pdf\"\n",
            "'呂元福 - 108英文自主學習素養學習單.docx'\n",
            "'呂元福 - B1U7生活中的科學.pptx'\n",
            "'呂元福 - B1U8Love Affair.pptx'\n",
            "'呂元福 - Mother’s Hands -- ORID.gslides'\n",
            "'呂元福 - 三民108 B1U10 邏輯辯證素養學習單.docx'\n",
            "'呂元福 - 三民B2U6: Storyboard.gslides'\n",
            "'呂元福 - 三民B4U9學習單1 (1).docx'\n",
            "'呂元福 - 三民B4U9學習單1.docx'\n",
            "'呂元福 - 新聞英語學習單.doc'\n",
            "'呂元福 - 表達力之自我介紹.gslides'\n",
            "'國文戰士乾杯 03 呂元福.docx'\n",
            "'國文戰士乾杯 03 呂元福 已訂正.docx'\n",
            "'國立嘉義高級工業職業學校教師請假單03 粽一乙.docx'\n",
            "'夏天 - 10909Unit1雜誌學習單.doc'\n",
            "'夏天 - 109-1英文簡報表達力學習歷程範本.gslides'\n",
            "'夏天 - 109-2高中英文學習歷程.gslides'\n",
            "'夏天 - 1104U5月GO學習單.docx'\n",
            "'夏天 - My Favorite English Movie.gslides'\n",
            "'夏天 - 三民B3U1素養學習單.docx'\n",
            "'夏天 - 三民B3U2素養學習單2.docx'\n",
            "'夏天 - 三民B3U2素養學習單.docx'\n",
            "'夏天 - 三民B3U3素養學習單.docx'\n",
            "'夏天 - 三民B4U1辯論錄影文字稿.docx'\n",
            "'夏天 - 三民B4U9素養作業1.docx'\n",
            "'夏天 - 三民B4U9素養作業2.docx'\n",
            "'夏天 - 三民B4U9素養作業3.docx'\n",
            "'夏天 - 三民B4U9素養作業4.docx'\n",
            "'夏天 - 台灣民主政治中的女性專題X世界咖啡館.docx'\n",
            "'夏天 - 大學面試自我介紹須知Self-introduction.docx'\n",
            "'夏天 - 成果簡述與自我反思.docx'\n",
            "'夏天 - 綜二乙專題報告script.docx'\n",
            " 大一國文\n",
            "\"我正與您共用 '108三民B2U1-素養學習單 01'\"\n",
            "\"我正與您共用 '108三民B2U2-素養學習單-02'\"\n",
            "\"我正與您共用 '108三民B2U3-素養學習單03'\"\n",
            "\"我正與您共用 '108三民B2U4-素養學習單04'\"\n",
            "\"我正與您共用 '綜二乙 03號 呂元福 諸羅山盃少棒賽比賽心得'.pdf\"\n",
            "'我正與您共用 '\\''英文自傳,資工-呂元福'\\'' (1).pdf'\n",
            "\"我正與您共用 '英文自傳,資工-呂元福'.pdf\"\n",
            "\"'我的書房-'.pdf\"\n",
            "'未命名簡報 (1).gslides'\n",
            " 未命名簡報.gslides\n",
            " 未命名資料夾\n",
            "'未命名資料夾 (1)'\n",
            "' '\\''科學怪人'\\'' (1).pdf'\n",
            "\" '科學怪人'.pdf\"\n",
            " 科學-魚菜共生.pptx\n",
            "\" '綜一乙-03-呂元福-選舉學習單'.pdf\"\n",
            "'綜二109(下)補考題.pdf'\n",
            "'綜二乙 03 呂元福.docx'\n",
            " 綜二乙-呂元福-暫時停止生命.pptx\n",
            " 自主學習的計劃書.pdf\n",
            " 讀書心得.pptx\n",
            "'運動項目報告 綜二乙 03 呂元福.docx'\n",
            "'雨晴 - 108三民B2U10素養學習單.docx'\n",
            "'雨晴 - 108三民B2U5素養學習單.docx'\n",
            "'雨晴 - 108三民B2U6素養學習單.docx'\n",
            "'雨晴 - 108三民B2U7素養學習單.docx'\n",
            "'雨晴 - 108三民B2U8 素養學習單.docx'\n",
            "'雨晴 - 108三民B2U9素養學習單.docx'\n",
            " 電腦網路實驗\n",
            " 點擊該連結新增為《部落衝突:皇室戰爭》好友！\n"
          ]
        }
      ]
    },
    {
      "cell_type": "code",
      "source": [
        "# Working with files\n",
        "# Create directories for the new project\n",
        "!mkdir -p drive/kaggle/talkingdata-adtracking-fraud-detection\n",
        "\n",
        "!mkdir -p drive/kaggle/talkingdata-adtracking-fraud-detection/input/train\n",
        "!mkdir -p drive/kaggle/talkingdata-adtracking-fraud-detection/input/test\n",
        "!mkdir -p drive/kaggle/talkingdata-adtracking-fraud-detection/input/valid\n",
        "\n",
        "# Download files\n",
        "!wget -O /content/drive/'My Drive'/Data/fashion_mnist/train-images-idx3-ubyte.gz http://fashion-mnist.s3-website.eu-central-1.amazonaws.com/train-images-idx3-ubyte.gz\n",
        "\n",
        "# Download and Unzip files\n",
        "%env DIR=/content/drive/My Drive/Data/animals/cats_and_dogs\n",
        "\n",
        "!rm -rf \"$DIR\"\n",
        "!mkdir -pv \"$DIR\"\n",
        "!wget -O \"$DIR\"/Cat_Dog_data.zip https://s3.amazonaws.com/content.udacity-data.com/nd089/Cat_Dog_data.zip\n",
        "\n",
        "# remove existing directories\n",
        "!(cd \"$DIR\" && unzip -qqj Cat_Dog_data.zip -d .)"
      ],
      "metadata": {
        "colab": {
          "base_uri": "https://localhost:8080/"
        },
        "id": "W5Kv0SSuOTiZ",
        "outputId": "80ba704b-c840-4e81-b332-a3245d28436b"
      },
      "execution_count": 28,
      "outputs": [
        {
          "output_type": "stream",
          "name": "stdout",
          "text": [
            "/content/drive/My Drive/Data/fashion_mnist/train-images-idx3-ubyte.gz: No such file or directory\n",
            "env: DIR=/content/drive/My Drive/Data/animals/cats_and_dogs\n",
            "mkdir: created directory '/content/drive/My Drive/Data'\n",
            "mkdir: created directory '/content/drive/My Drive/Data/animals'\n",
            "mkdir: created directory '/content/drive/My Drive/Data/animals/cats_and_dogs'\n",
            "--2025-01-01 10:47:44--  https://s3.amazonaws.com/content.udacity-data.com/nd089/Cat_Dog_data.zip\n",
            "Resolving s3.amazonaws.com (s3.amazonaws.com)... 16.15.178.19, 52.216.76.254, 16.15.177.29, ...\n",
            "Connecting to s3.amazonaws.com (s3.amazonaws.com)|16.15.178.19|:443... connected.\n",
            "HTTP request sent, awaiting response... 200 OK\n",
            "Length: 580495262 (554M) [application/zip]\n",
            "Saving to: ‘/content/drive/My Drive/Data/animals/cats_and_dogs/Cat_Dog_data.zip’\n",
            "\n",
            "/content/drive/My D 100%[===================>] 553.60M  43.2MB/s    in 16s     \n",
            "\n",
            "2025-01-01 10:48:00 (35.5 MB/s) - ‘/content/drive/My Drive/Data/animals/cats_and_dogs/Cat_Dog_data.zip’ saved [580495262/580495262]\n",
            "\n",
            "replace ./.DS_Store? [y]es, [n]o, [A]ll, [N]one, [r]ename: y\n",
            "replace ./._.DS_Store? [y]es, [n]o, [A]ll, [N]one, [r]ename: "
          ]
        }
      ]
    },
    {
      "cell_type": "code",
      "source": [
        "# Import modules\n",
        "import imp\n",
        "year = imp.new_module('year')\n",
        "exec(open(\"/content/drive/MyDrive/未命名資料夾/期末報告/year.py\").read(), year.__dict__)\n",
        "fc_model = imp.new_module('fc_model')\n",
        "exec(open(\"/content/drive/MyDrive/未命名資料夾/期末報告/year.py\").read(), fc_model.__dict__)"
      ],
      "metadata": {
        "colab": {
          "base_uri": "https://localhost:8080/"
        },
        "id": "iBlyTAOnOd_l",
        "outputId": "5fdada24-fa3c-4653-cf59-5a779c82f05b"
      },
      "execution_count": 29,
      "outputs": [
        {
          "output_type": "stream",
          "name": "stdout",
          "text": [
            "請輸入西元年份: 2001\n",
            "2001 年是平年\n",
            "請輸入西元年份: 201\n",
            "201 年是平年\n"
          ]
        }
      ]
    },
    {
      "cell_type": "code",
      "source": [
        "from google.colab import files\n",
        "\n",
        "# Upload file\n",
        "uploaded = files.upload()\n",
        "\n",
        "for fn in uploaded.keys():\n",
        "  print('User uploaded file \"{name}\" with length {length} bytes'.format(\n",
        "      name=fn, length=len(uploaded[fn])))\n",
        "\n",
        "# Download file\n",
        "with open('example.txt', 'w') as f:\n",
        "  f.write('some content')\n",
        "\n",
        "files.download('example.txt')"
      ],
      "metadata": {
        "colab": {
          "base_uri": "https://localhost:8080/",
          "height": 92
        },
        "id": "gA-5AnNpOyik",
        "outputId": "6841f644-177c-4271-ea9e-0c7ec9657650"
      },
      "execution_count": 30,
      "outputs": [
        {
          "output_type": "display_data",
          "data": {
            "text/plain": [
              "<IPython.core.display.HTML object>"
            ],
            "text/html": [
              "\n",
              "     <input type=\"file\" id=\"files-af350deb-1dcb-4ccd-a372-281fc6e6e8f3\" name=\"files[]\" multiple disabled\n",
              "        style=\"border:none\" />\n",
              "     <output id=\"result-af350deb-1dcb-4ccd-a372-281fc6e6e8f3\">\n",
              "      Upload widget is only available when the cell has been executed in the\n",
              "      current browser session. Please rerun this cell to enable.\n",
              "      </output>\n",
              "      <script>// Copyright 2017 Google LLC\n",
              "//\n",
              "// Licensed under the Apache License, Version 2.0 (the \"License\");\n",
              "// you may not use this file except in compliance with the License.\n",
              "// You may obtain a copy of the License at\n",
              "//\n",
              "//      http://www.apache.org/licenses/LICENSE-2.0\n",
              "//\n",
              "// Unless required by applicable law or agreed to in writing, software\n",
              "// distributed under the License is distributed on an \"AS IS\" BASIS,\n",
              "// WITHOUT WARRANTIES OR CONDITIONS OF ANY KIND, either express or implied.\n",
              "// See the License for the specific language governing permissions and\n",
              "// limitations under the License.\n",
              "\n",
              "/**\n",
              " * @fileoverview Helpers for google.colab Python module.\n",
              " */\n",
              "(function(scope) {\n",
              "function span(text, styleAttributes = {}) {\n",
              "  const element = document.createElement('span');\n",
              "  element.textContent = text;\n",
              "  for (const key of Object.keys(styleAttributes)) {\n",
              "    element.style[key] = styleAttributes[key];\n",
              "  }\n",
              "  return element;\n",
              "}\n",
              "\n",
              "// Max number of bytes which will be uploaded at a time.\n",
              "const MAX_PAYLOAD_SIZE = 100 * 1024;\n",
              "\n",
              "function _uploadFiles(inputId, outputId) {\n",
              "  const steps = uploadFilesStep(inputId, outputId);\n",
              "  const outputElement = document.getElementById(outputId);\n",
              "  // Cache steps on the outputElement to make it available for the next call\n",
              "  // to uploadFilesContinue from Python.\n",
              "  outputElement.steps = steps;\n",
              "\n",
              "  return _uploadFilesContinue(outputId);\n",
              "}\n",
              "\n",
              "// This is roughly an async generator (not supported in the browser yet),\n",
              "// where there are multiple asynchronous steps and the Python side is going\n",
              "// to poll for completion of each step.\n",
              "// This uses a Promise to block the python side on completion of each step,\n",
              "// then passes the result of the previous step as the input to the next step.\n",
              "function _uploadFilesContinue(outputId) {\n",
              "  const outputElement = document.getElementById(outputId);\n",
              "  const steps = outputElement.steps;\n",
              "\n",
              "  const next = steps.next(outputElement.lastPromiseValue);\n",
              "  return Promise.resolve(next.value.promise).then((value) => {\n",
              "    // Cache the last promise value to make it available to the next\n",
              "    // step of the generator.\n",
              "    outputElement.lastPromiseValue = value;\n",
              "    return next.value.response;\n",
              "  });\n",
              "}\n",
              "\n",
              "/**\n",
              " * Generator function which is called between each async step of the upload\n",
              " * process.\n",
              " * @param {string} inputId Element ID of the input file picker element.\n",
              " * @param {string} outputId Element ID of the output display.\n",
              " * @return {!Iterable<!Object>} Iterable of next steps.\n",
              " */\n",
              "function* uploadFilesStep(inputId, outputId) {\n",
              "  const inputElement = document.getElementById(inputId);\n",
              "  inputElement.disabled = false;\n",
              "\n",
              "  const outputElement = document.getElementById(outputId);\n",
              "  outputElement.innerHTML = '';\n",
              "\n",
              "  const pickedPromise = new Promise((resolve) => {\n",
              "    inputElement.addEventListener('change', (e) => {\n",
              "      resolve(e.target.files);\n",
              "    });\n",
              "  });\n",
              "\n",
              "  const cancel = document.createElement('button');\n",
              "  inputElement.parentElement.appendChild(cancel);\n",
              "  cancel.textContent = 'Cancel upload';\n",
              "  const cancelPromise = new Promise((resolve) => {\n",
              "    cancel.onclick = () => {\n",
              "      resolve(null);\n",
              "    };\n",
              "  });\n",
              "\n",
              "  // Wait for the user to pick the files.\n",
              "  const files = yield {\n",
              "    promise: Promise.race([pickedPromise, cancelPromise]),\n",
              "    response: {\n",
              "      action: 'starting',\n",
              "    }\n",
              "  };\n",
              "\n",
              "  cancel.remove();\n",
              "\n",
              "  // Disable the input element since further picks are not allowed.\n",
              "  inputElement.disabled = true;\n",
              "\n",
              "  if (!files) {\n",
              "    return {\n",
              "      response: {\n",
              "        action: 'complete',\n",
              "      }\n",
              "    };\n",
              "  }\n",
              "\n",
              "  for (const file of files) {\n",
              "    const li = document.createElement('li');\n",
              "    li.append(span(file.name, {fontWeight: 'bold'}));\n",
              "    li.append(span(\n",
              "        `(${file.type || 'n/a'}) - ${file.size} bytes, ` +\n",
              "        `last modified: ${\n",
              "            file.lastModifiedDate ? file.lastModifiedDate.toLocaleDateString() :\n",
              "                                    'n/a'} - `));\n",
              "    const percent = span('0% done');\n",
              "    li.appendChild(percent);\n",
              "\n",
              "    outputElement.appendChild(li);\n",
              "\n",
              "    const fileDataPromise = new Promise((resolve) => {\n",
              "      const reader = new FileReader();\n",
              "      reader.onload = (e) => {\n",
              "        resolve(e.target.result);\n",
              "      };\n",
              "      reader.readAsArrayBuffer(file);\n",
              "    });\n",
              "    // Wait for the data to be ready.\n",
              "    let fileData = yield {\n",
              "      promise: fileDataPromise,\n",
              "      response: {\n",
              "        action: 'continue',\n",
              "      }\n",
              "    };\n",
              "\n",
              "    // Use a chunked sending to avoid message size limits. See b/62115660.\n",
              "    let position = 0;\n",
              "    do {\n",
              "      const length = Math.min(fileData.byteLength - position, MAX_PAYLOAD_SIZE);\n",
              "      const chunk = new Uint8Array(fileData, position, length);\n",
              "      position += length;\n",
              "\n",
              "      const base64 = btoa(String.fromCharCode.apply(null, chunk));\n",
              "      yield {\n",
              "        response: {\n",
              "          action: 'append',\n",
              "          file: file.name,\n",
              "          data: base64,\n",
              "        },\n",
              "      };\n",
              "\n",
              "      let percentDone = fileData.byteLength === 0 ?\n",
              "          100 :\n",
              "          Math.round((position / fileData.byteLength) * 100);\n",
              "      percent.textContent = `${percentDone}% done`;\n",
              "\n",
              "    } while (position < fileData.byteLength);\n",
              "  }\n",
              "\n",
              "  // All done.\n",
              "  yield {\n",
              "    response: {\n",
              "      action: 'complete',\n",
              "    }\n",
              "  };\n",
              "}\n",
              "\n",
              "scope.google = scope.google || {};\n",
              "scope.google.colab = scope.google.colab || {};\n",
              "scope.google.colab._files = {\n",
              "  _uploadFiles,\n",
              "  _uploadFilesContinue,\n",
              "};\n",
              "})(self);\n",
              "</script> "
            ]
          },
          "metadata": {}
        },
        {
          "output_type": "stream",
          "name": "stdout",
          "text": [
            "Saving year.py to year (1).py\n",
            "User uploaded file \"year (1).py\" with length 285 bytes\n"
          ]
        },
        {
          "output_type": "display_data",
          "data": {
            "text/plain": [
              "<IPython.core.display.Javascript object>"
            ],
            "application/javascript": [
              "\n",
              "    async function download(id, filename, size) {\n",
              "      if (!google.colab.kernel.accessAllowed) {\n",
              "        return;\n",
              "      }\n",
              "      const div = document.createElement('div');\n",
              "      const label = document.createElement('label');\n",
              "      label.textContent = `Downloading \"${filename}\": `;\n",
              "      div.appendChild(label);\n",
              "      const progress = document.createElement('progress');\n",
              "      progress.max = size;\n",
              "      div.appendChild(progress);\n",
              "      document.body.appendChild(div);\n",
              "\n",
              "      const buffers = [];\n",
              "      let downloaded = 0;\n",
              "\n",
              "      const channel = await google.colab.kernel.comms.open(id);\n",
              "      // Send a message to notify the kernel that we're ready.\n",
              "      channel.send({})\n",
              "\n",
              "      for await (const message of channel.messages) {\n",
              "        // Send a message to notify the kernel that we're ready.\n",
              "        channel.send({})\n",
              "        if (message.buffers) {\n",
              "          for (const buffer of message.buffers) {\n",
              "            buffers.push(buffer);\n",
              "            downloaded += buffer.byteLength;\n",
              "            progress.value = downloaded;\n",
              "          }\n",
              "        }\n",
              "      }\n",
              "      const blob = new Blob(buffers, {type: 'application/binary'});\n",
              "      const a = document.createElement('a');\n",
              "      a.href = window.URL.createObjectURL(blob);\n",
              "      a.download = filename;\n",
              "      div.appendChild(a);\n",
              "      a.click();\n",
              "      div.remove();\n",
              "    }\n",
              "  "
            ]
          },
          "metadata": {}
        },
        {
          "output_type": "display_data",
          "data": {
            "text/plain": [
              "<IPython.core.display.Javascript object>"
            ],
            "application/javascript": [
              "download(\"download_11fd0dd5-4c15-4d43-9090-87468c869e89\", \"example.txt\", 12)"
            ]
          },
          "metadata": {}
        }
      ]
    },
    {
      "cell_type": "code",
      "source": [
        "project_id = 'my-project-id'\n",
        "client = bigquery.Client(project=project_id)"
      ],
      "metadata": {
        "id": "CGduCwmkQi67",
        "colab": {
          "base_uri": "https://localhost:8080/",
          "height": 159
        },
        "outputId": "9c3ddabe-ea23-49a0-e60e-83b97b1c1e92"
      },
      "execution_count": 31,
      "outputs": [
        {
          "output_type": "error",
          "ename": "NameError",
          "evalue": "name 'bigquery' is not defined",
          "traceback": [
            "\u001b[0;31m---------------------------------------------------------------------------\u001b[0m",
            "\u001b[0;31mNameError\u001b[0m                                 Traceback (most recent call last)",
            "\u001b[0;32m<ipython-input-31-f2c3096a7150>\u001b[0m in \u001b[0;36m<cell line: 2>\u001b[0;34m()\u001b[0m\n\u001b[1;32m      1\u001b[0m \u001b[0mproject_id\u001b[0m \u001b[0;34m=\u001b[0m \u001b[0;34m'my-project-id'\u001b[0m\u001b[0;34m\u001b[0m\u001b[0;34m\u001b[0m\u001b[0m\n\u001b[0;32m----> 2\u001b[0;31m \u001b[0mclient\u001b[0m \u001b[0;34m=\u001b[0m \u001b[0mbigquery\u001b[0m\u001b[0;34m.\u001b[0m\u001b[0mClient\u001b[0m\u001b[0;34m(\u001b[0m\u001b[0mproject\u001b[0m\u001b[0;34m=\u001b[0m\u001b[0mproject_id\u001b[0m\u001b[0;34m)\u001b[0m\u001b[0;34m\u001b[0m\u001b[0;34m\u001b[0m\u001b[0m\n\u001b[0m",
            "\u001b[0;31mNameError\u001b[0m: name 'bigquery' is not defined"
          ]
        }
      ]
    },
    {
      "cell_type": "code",
      "source": [
        "from google.cloud import bigquery\n",
        "client = bigquery.Client(project=project_id)"
      ],
      "metadata": {
        "id": "EZP-1uTDQWT8"
      },
      "execution_count": 32,
      "outputs": []
    },
    {
      "cell_type": "code",
      "source": [
        "!pip install --upgrade google-auth google-auth-oauthlib google-auth-httplib2"
      ],
      "metadata": {
        "collapsed": true,
        "colab": {
          "base_uri": "https://localhost:8080/",
          "height": 600
        },
        "id": "lMDSO9viMWZ0",
        "outputId": "110e0d76-7bc3-4829-9e6a-d1a85cb7456f"
      },
      "execution_count": 33,
      "outputs": [
        {
          "output_type": "stream",
          "name": "stdout",
          "text": [
            "Requirement already satisfied: google-auth in /usr/local/lib/python3.10/dist-packages (2.27.0)\n",
            "Collecting google-auth\n",
            "  Downloading google_auth-2.37.0-py2.py3-none-any.whl.metadata (4.8 kB)\n",
            "Requirement already satisfied: google-auth-oauthlib in /usr/local/lib/python3.10/dist-packages (1.2.1)\n",
            "Requirement already satisfied: google-auth-httplib2 in /usr/local/lib/python3.10/dist-packages (0.2.0)\n",
            "Requirement already satisfied: cachetools<6.0,>=2.0.0 in /usr/local/lib/python3.10/dist-packages (from google-auth) (5.5.0)\n",
            "Requirement already satisfied: pyasn1-modules>=0.2.1 in /usr/local/lib/python3.10/dist-packages (from google-auth) (0.4.1)\n",
            "Requirement already satisfied: rsa<5,>=3.1.4 in /usr/local/lib/python3.10/dist-packages (from google-auth) (4.9)\n",
            "Requirement already satisfied: requests-oauthlib>=0.7.0 in /usr/local/lib/python3.10/dist-packages (from google-auth-oauthlib) (1.3.1)\n",
            "Requirement already satisfied: httplib2>=0.19.0 in /usr/local/lib/python3.10/dist-packages (from google-auth-httplib2) (0.22.0)\n",
            "Requirement already satisfied: pyparsing!=3.0.0,!=3.0.1,!=3.0.2,!=3.0.3,<4,>=2.4.2 in /usr/local/lib/python3.10/dist-packages (from httplib2>=0.19.0->google-auth-httplib2) (3.2.0)\n",
            "Requirement already satisfied: pyasn1<0.7.0,>=0.4.6 in /usr/local/lib/python3.10/dist-packages (from pyasn1-modules>=0.2.1->google-auth) (0.6.1)\n",
            "Requirement already satisfied: oauthlib>=3.0.0 in /usr/local/lib/python3.10/dist-packages (from requests-oauthlib>=0.7.0->google-auth-oauthlib) (3.2.2)\n",
            "Requirement already satisfied: requests>=2.0.0 in /usr/local/lib/python3.10/dist-packages (from requests-oauthlib>=0.7.0->google-auth-oauthlib) (2.32.3)\n",
            "Requirement already satisfied: charset-normalizer<4,>=2 in /usr/local/lib/python3.10/dist-packages (from requests>=2.0.0->requests-oauthlib>=0.7.0->google-auth-oauthlib) (3.4.0)\n",
            "Requirement already satisfied: idna<4,>=2.5 in /usr/local/lib/python3.10/dist-packages (from requests>=2.0.0->requests-oauthlib>=0.7.0->google-auth-oauthlib) (3.10)\n",
            "Requirement already satisfied: urllib3<3,>=1.21.1 in /usr/local/lib/python3.10/dist-packages (from requests>=2.0.0->requests-oauthlib>=0.7.0->google-auth-oauthlib) (2.2.3)\n",
            "Requirement already satisfied: certifi>=2017.4.17 in /usr/local/lib/python3.10/dist-packages (from requests>=2.0.0->requests-oauthlib>=0.7.0->google-auth-oauthlib) (2024.12.14)\n",
            "Downloading google_auth-2.37.0-py2.py3-none-any.whl (209 kB)\n",
            "\u001b[2K   \u001b[90m━━━━━━━━━━━━━━━━━━━━━━━━━━━━━━━━━━━━━━━━\u001b[0m \u001b[32m209.8/209.8 kB\u001b[0m \u001b[31m4.5 MB/s\u001b[0m eta \u001b[36m0:00:00\u001b[0m\n",
            "\u001b[?25hInstalling collected packages: google-auth\n",
            "  Attempting uninstall: google-auth\n",
            "    Found existing installation: google-auth 2.27.0\n",
            "    Uninstalling google-auth-2.27.0:\n",
            "      Successfully uninstalled google-auth-2.27.0\n",
            "\u001b[31mERROR: pip's dependency resolver does not currently take into account all the packages that are installed. This behaviour is the source of the following dependency conflicts.\n",
            "google-colab 1.0.0 requires google-auth==2.27.0, but you have google-auth 2.37.0 which is incompatible.\u001b[0m\u001b[31m\n",
            "\u001b[0mSuccessfully installed google-auth-2.37.0\n"
          ]
        },
        {
          "output_type": "display_data",
          "data": {
            "application/vnd.colab-display-data+json": {
              "pip_warning": {
                "packages": [
                  "google"
                ]
              },
              "id": "e29c5255f2304e94aa269e19f774d3f8"
            }
          },
          "metadata": {}
        }
      ]
    },
    {
      "cell_type": "code",
      "source": [
        "!pip install ipywidgets"
      ],
      "metadata": {
        "colab": {
          "base_uri": "https://localhost:8080/"
        },
        "id": "4lkyBsGtQ5-9",
        "outputId": "33840d23-5c2c-4e89-dd18-975a24ed64f7",
        "collapsed": true
      },
      "execution_count": 34,
      "outputs": [
        {
          "output_type": "stream",
          "name": "stdout",
          "text": [
            "Requirement already satisfied: ipywidgets in /usr/local/lib/python3.10/dist-packages (7.7.1)\n",
            "Requirement already satisfied: ipykernel>=4.5.1 in /usr/local/lib/python3.10/dist-packages (from ipywidgets) (5.5.6)\n",
            "Requirement already satisfied: ipython-genutils~=0.2.0 in /usr/local/lib/python3.10/dist-packages (from ipywidgets) (0.2.0)\n",
            "Requirement already satisfied: traitlets>=4.3.1 in /usr/local/lib/python3.10/dist-packages (from ipywidgets) (5.7.1)\n",
            "Requirement already satisfied: widgetsnbextension~=3.6.0 in /usr/local/lib/python3.10/dist-packages (from ipywidgets) (3.6.10)\n",
            "Requirement already satisfied: ipython>=4.0.0 in /usr/local/lib/python3.10/dist-packages (from ipywidgets) (7.34.0)\n",
            "Requirement already satisfied: jupyterlab-widgets>=1.0.0 in /usr/local/lib/python3.10/dist-packages (from ipywidgets) (3.0.13)\n",
            "Requirement already satisfied: jupyter-client in /usr/local/lib/python3.10/dist-packages (from ipykernel>=4.5.1->ipywidgets) (6.1.12)\n",
            "Requirement already satisfied: tornado>=4.2 in /usr/local/lib/python3.10/dist-packages (from ipykernel>=4.5.1->ipywidgets) (6.3.3)\n",
            "Requirement already satisfied: setuptools>=18.5 in /usr/local/lib/python3.10/dist-packages (from ipython>=4.0.0->ipywidgets) (75.1.0)\n",
            "Requirement already satisfied: jedi>=0.16 in /usr/local/lib/python3.10/dist-packages (from ipython>=4.0.0->ipywidgets) (0.19.2)\n",
            "Requirement already satisfied: decorator in /usr/local/lib/python3.10/dist-packages (from ipython>=4.0.0->ipywidgets) (4.4.2)\n",
            "Requirement already satisfied: pickleshare in /usr/local/lib/python3.10/dist-packages (from ipython>=4.0.0->ipywidgets) (0.7.5)\n",
            "Requirement already satisfied: prompt-toolkit!=3.0.0,!=3.0.1,<3.1.0,>=2.0.0 in /usr/local/lib/python3.10/dist-packages (from ipython>=4.0.0->ipywidgets) (3.0.48)\n",
            "Requirement already satisfied: pygments in /usr/local/lib/python3.10/dist-packages (from ipython>=4.0.0->ipywidgets) (2.18.0)\n",
            "Requirement already satisfied: backcall in /usr/local/lib/python3.10/dist-packages (from ipython>=4.0.0->ipywidgets) (0.2.0)\n",
            "Requirement already satisfied: matplotlib-inline in /usr/local/lib/python3.10/dist-packages (from ipython>=4.0.0->ipywidgets) (0.1.7)\n",
            "Requirement already satisfied: pexpect>4.3 in /usr/local/lib/python3.10/dist-packages (from ipython>=4.0.0->ipywidgets) (4.9.0)\n",
            "Requirement already satisfied: notebook>=4.4.1 in /usr/local/lib/python3.10/dist-packages (from widgetsnbextension~=3.6.0->ipywidgets) (6.5.5)\n",
            "Requirement already satisfied: parso<0.9.0,>=0.8.4 in /usr/local/lib/python3.10/dist-packages (from jedi>=0.16->ipython>=4.0.0->ipywidgets) (0.8.4)\n",
            "Requirement already satisfied: jinja2 in /usr/local/lib/python3.10/dist-packages (from notebook>=4.4.1->widgetsnbextension~=3.6.0->ipywidgets) (3.1.4)\n",
            "Requirement already satisfied: pyzmq<25,>=17 in /usr/local/lib/python3.10/dist-packages (from notebook>=4.4.1->widgetsnbextension~=3.6.0->ipywidgets) (24.0.1)\n",
            "Requirement already satisfied: argon2-cffi in /usr/local/lib/python3.10/dist-packages (from notebook>=4.4.1->widgetsnbextension~=3.6.0->ipywidgets) (23.1.0)\n",
            "Requirement already satisfied: jupyter-core>=4.6.1 in /usr/local/lib/python3.10/dist-packages (from notebook>=4.4.1->widgetsnbextension~=3.6.0->ipywidgets) (5.7.2)\n",
            "Requirement already satisfied: nbformat in /usr/local/lib/python3.10/dist-packages (from notebook>=4.4.1->widgetsnbextension~=3.6.0->ipywidgets) (5.10.4)\n",
            "Requirement already satisfied: nbconvert>=5 in /usr/local/lib/python3.10/dist-packages (from notebook>=4.4.1->widgetsnbextension~=3.6.0->ipywidgets) (7.16.4)\n",
            "Requirement already satisfied: nest-asyncio>=1.5 in /usr/local/lib/python3.10/dist-packages (from notebook>=4.4.1->widgetsnbextension~=3.6.0->ipywidgets) (1.6.0)\n",
            "Requirement already satisfied: Send2Trash>=1.8.0 in /usr/local/lib/python3.10/dist-packages (from notebook>=4.4.1->widgetsnbextension~=3.6.0->ipywidgets) (1.8.3)\n",
            "Requirement already satisfied: terminado>=0.8.3 in /usr/local/lib/python3.10/dist-packages (from notebook>=4.4.1->widgetsnbextension~=3.6.0->ipywidgets) (0.18.1)\n",
            "Requirement already satisfied: prometheus-client in /usr/local/lib/python3.10/dist-packages (from notebook>=4.4.1->widgetsnbextension~=3.6.0->ipywidgets) (0.21.1)\n",
            "Requirement already satisfied: nbclassic>=0.4.7 in /usr/local/lib/python3.10/dist-packages (from notebook>=4.4.1->widgetsnbextension~=3.6.0->ipywidgets) (1.1.0)\n",
            "Requirement already satisfied: python-dateutil>=2.1 in /usr/local/lib/python3.10/dist-packages (from jupyter-client->ipykernel>=4.5.1->ipywidgets) (2.8.2)\n",
            "Requirement already satisfied: ptyprocess>=0.5 in /usr/local/lib/python3.10/dist-packages (from pexpect>4.3->ipython>=4.0.0->ipywidgets) (0.7.0)\n",
            "Requirement already satisfied: wcwidth in /usr/local/lib/python3.10/dist-packages (from prompt-toolkit!=3.0.0,!=3.0.1,<3.1.0,>=2.0.0->ipython>=4.0.0->ipywidgets) (0.2.13)\n",
            "Requirement already satisfied: platformdirs>=2.5 in /usr/local/lib/python3.10/dist-packages (from jupyter-core>=4.6.1->notebook>=4.4.1->widgetsnbextension~=3.6.0->ipywidgets) (4.3.6)\n",
            "Requirement already satisfied: notebook-shim>=0.2.3 in /usr/local/lib/python3.10/dist-packages (from nbclassic>=0.4.7->notebook>=4.4.1->widgetsnbextension~=3.6.0->ipywidgets) (0.2.4)\n",
            "Requirement already satisfied: beautifulsoup4 in /usr/local/lib/python3.10/dist-packages (from nbconvert>=5->notebook>=4.4.1->widgetsnbextension~=3.6.0->ipywidgets) (4.12.3)\n",
            "Requirement already satisfied: bleach!=5.0.0 in /usr/local/lib/python3.10/dist-packages (from nbconvert>=5->notebook>=4.4.1->widgetsnbextension~=3.6.0->ipywidgets) (6.2.0)\n",
            "Requirement already satisfied: defusedxml in /usr/local/lib/python3.10/dist-packages (from nbconvert>=5->notebook>=4.4.1->widgetsnbextension~=3.6.0->ipywidgets) (0.7.1)\n",
            "Requirement already satisfied: jupyterlab-pygments in /usr/local/lib/python3.10/dist-packages (from nbconvert>=5->notebook>=4.4.1->widgetsnbextension~=3.6.0->ipywidgets) (0.3.0)\n",
            "Requirement already satisfied: markupsafe>=2.0 in /usr/local/lib/python3.10/dist-packages (from nbconvert>=5->notebook>=4.4.1->widgetsnbextension~=3.6.0->ipywidgets) (3.0.2)\n",
            "Requirement already satisfied: mistune<4,>=2.0.3 in /usr/local/lib/python3.10/dist-packages (from nbconvert>=5->notebook>=4.4.1->widgetsnbextension~=3.6.0->ipywidgets) (3.0.2)\n",
            "Requirement already satisfied: nbclient>=0.5.0 in /usr/local/lib/python3.10/dist-packages (from nbconvert>=5->notebook>=4.4.1->widgetsnbextension~=3.6.0->ipywidgets) (0.10.1)\n",
            "Requirement already satisfied: packaging in /usr/local/lib/python3.10/dist-packages (from nbconvert>=5->notebook>=4.4.1->widgetsnbextension~=3.6.0->ipywidgets) (24.2)\n",
            "Requirement already satisfied: pandocfilters>=1.4.1 in /usr/local/lib/python3.10/dist-packages (from nbconvert>=5->notebook>=4.4.1->widgetsnbextension~=3.6.0->ipywidgets) (1.5.1)\n",
            "Requirement already satisfied: tinycss2 in /usr/local/lib/python3.10/dist-packages (from nbconvert>=5->notebook>=4.4.1->widgetsnbextension~=3.6.0->ipywidgets) (1.4.0)\n",
            "Requirement already satisfied: fastjsonschema>=2.15 in /usr/local/lib/python3.10/dist-packages (from nbformat->notebook>=4.4.1->widgetsnbextension~=3.6.0->ipywidgets) (2.21.1)\n",
            "Requirement already satisfied: jsonschema>=2.6 in /usr/local/lib/python3.10/dist-packages (from nbformat->notebook>=4.4.1->widgetsnbextension~=3.6.0->ipywidgets) (4.23.0)\n",
            "Requirement already satisfied: six>=1.5 in /usr/local/lib/python3.10/dist-packages (from python-dateutil>=2.1->jupyter-client->ipykernel>=4.5.1->ipywidgets) (1.17.0)\n",
            "Requirement already satisfied: argon2-cffi-bindings in /usr/local/lib/python3.10/dist-packages (from argon2-cffi->notebook>=4.4.1->widgetsnbextension~=3.6.0->ipywidgets) (21.2.0)\n",
            "Requirement already satisfied: webencodings in /usr/local/lib/python3.10/dist-packages (from bleach!=5.0.0->nbconvert>=5->notebook>=4.4.1->widgetsnbextension~=3.6.0->ipywidgets) (0.5.1)\n",
            "Requirement already satisfied: attrs>=22.2.0 in /usr/local/lib/python3.10/dist-packages (from jsonschema>=2.6->nbformat->notebook>=4.4.1->widgetsnbextension~=3.6.0->ipywidgets) (24.3.0)\n",
            "Requirement already satisfied: jsonschema-specifications>=2023.03.6 in /usr/local/lib/python3.10/dist-packages (from jsonschema>=2.6->nbformat->notebook>=4.4.1->widgetsnbextension~=3.6.0->ipywidgets) (2024.10.1)\n",
            "Requirement already satisfied: referencing>=0.28.4 in /usr/local/lib/python3.10/dist-packages (from jsonschema>=2.6->nbformat->notebook>=4.4.1->widgetsnbextension~=3.6.0->ipywidgets) (0.35.1)\n",
            "Requirement already satisfied: rpds-py>=0.7.1 in /usr/local/lib/python3.10/dist-packages (from jsonschema>=2.6->nbformat->notebook>=4.4.1->widgetsnbextension~=3.6.0->ipywidgets) (0.22.3)\n",
            "Requirement already satisfied: jupyter-server<3,>=1.8 in /usr/local/lib/python3.10/dist-packages (from notebook-shim>=0.2.3->nbclassic>=0.4.7->notebook>=4.4.1->widgetsnbextension~=3.6.0->ipywidgets) (1.24.0)\n",
            "Requirement already satisfied: cffi>=1.0.1 in /usr/local/lib/python3.10/dist-packages (from argon2-cffi-bindings->argon2-cffi->notebook>=4.4.1->widgetsnbextension~=3.6.0->ipywidgets) (1.17.1)\n",
            "Requirement already satisfied: soupsieve>1.2 in /usr/local/lib/python3.10/dist-packages (from beautifulsoup4->nbconvert>=5->notebook>=4.4.1->widgetsnbextension~=3.6.0->ipywidgets) (2.6)\n",
            "Requirement already satisfied: pycparser in /usr/local/lib/python3.10/dist-packages (from cffi>=1.0.1->argon2-cffi-bindings->argon2-cffi->notebook>=4.4.1->widgetsnbextension~=3.6.0->ipywidgets) (2.22)\n",
            "Requirement already satisfied: anyio<4,>=3.1.0 in /usr/local/lib/python3.10/dist-packages (from jupyter-server<3,>=1.8->notebook-shim>=0.2.3->nbclassic>=0.4.7->notebook>=4.4.1->widgetsnbextension~=3.6.0->ipywidgets) (3.7.1)\n",
            "Requirement already satisfied: websocket-client in /usr/local/lib/python3.10/dist-packages (from jupyter-server<3,>=1.8->notebook-shim>=0.2.3->nbclassic>=0.4.7->notebook>=4.4.1->widgetsnbextension~=3.6.0->ipywidgets) (1.8.0)\n",
            "Requirement already satisfied: idna>=2.8 in /usr/local/lib/python3.10/dist-packages (from anyio<4,>=3.1.0->jupyter-server<3,>=1.8->notebook-shim>=0.2.3->nbclassic>=0.4.7->notebook>=4.4.1->widgetsnbextension~=3.6.0->ipywidgets) (3.10)\n",
            "Requirement already satisfied: sniffio>=1.1 in /usr/local/lib/python3.10/dist-packages (from anyio<4,>=3.1.0->jupyter-server<3,>=1.8->notebook-shim>=0.2.3->nbclassic>=0.4.7->notebook>=4.4.1->widgetsnbextension~=3.6.0->ipywidgets) (1.3.1)\n",
            "Requirement already satisfied: exceptiongroup in /usr/local/lib/python3.10/dist-packages (from anyio<4,>=3.1.0->jupyter-server<3,>=1.8->notebook-shim>=0.2.3->nbclassic>=0.4.7->notebook>=4.4.1->widgetsnbextension~=3.6.0->ipywidgets) (1.2.2)\n"
          ]
        }
      ]
    },
    {
      "cell_type": "code",
      "source": [
        "import ipywidgets as widgets\n",
        "from IPython.display import display\n",
        "import matplotlib.pyplot as plt\n",
        "import numpy as np\n",
        "import random\n",
        "import time\n",
        "\n",
        "# 創建 Output 控制元件\n",
        "output1 = widgets.Output()\n",
        "output2 = widgets.Output()\n",
        "\n",
        "# 將 Output 控制元件放在 VBox 和 HBox 中以顯示\n",
        "grid = widgets.VBox([widgets.HBox([output1, output2])])\n",
        "display(grid)\n",
        "\n",
        "# 生成隨機圖形，並將它們顯示在 output1 或 output2 上\n",
        "for i in range(20):\n",
        "    with random.choice([output1, output2]):  # 隨機選擇其中一個 Output 顯示圖形\n",
        "        output1.clear_output(wait=True)  # 清除之前的圖形\n",
        "        output2.clear_output(wait=True)  # 清除之前的圖形\n",
        "        plt.figure(figsize=(2, 2))\n",
        "        plt.plot(np.random.random(10))\n",
        "        plt.show()\n",
        "    time.sleep(0.5)"
      ],
      "metadata": {
        "colab": {
          "base_uri": "https://localhost:8080/",
          "height": 216,
          "referenced_widgets": [
            "03f7504bd19c477ea0b62341c3277404",
            "0f562d7c60034ea694892d423f02dc6b",
            "b51bcc9cdcfa4021a3bd2556966112e7",
            "07e44fa1f11a454d854bb76811a4cbc7",
            "7c4655448bac4f90b5f6327c271db2b1",
            "f1769f4ea4d7492fbabec5c88e57a2b0",
            "7c8a8d611b8b4d15898aff7218b60c39",
            "35b961dc44f54f349bb8de6ff7f5eb77"
          ]
        },
        "id": "9DMLiVx4O4Zc",
        "outputId": "4ee6942d-4561-4e35-dd25-a6f1d4ad944c"
      },
      "execution_count": 35,
      "outputs": [
        {
          "output_type": "display_data",
          "data": {
            "text/plain": [
              "VBox(children=(HBox(children=(Output(), Output())),))"
            ],
            "application/vnd.jupyter.widget-view+json": {
              "version_major": 2,
              "version_minor": 0,
              "model_id": "03f7504bd19c477ea0b62341c3277404"
            }
          },
          "metadata": {}
        }
      ]
    },
    {
      "cell_type": "code",
      "source": [
        "from __future__ import print_function\n",
        "\n",
        "from google.colab import widgets\n",
        "from google.colab import output\n",
        "from matplotlib import pylab\n",
        "from six.moves import zip\n",
        "\n",
        "\n",
        "def create_tab(location):\n",
        "  tb = widgets.TabBar(['a', 'b'], location=location)\n",
        "  with tb.output_to('a'):\n",
        "    pylab.figure(figsize=(3, 3))\n",
        "    pylab.plot([1, 2, 3])\n",
        "  # Note you can access tab by its name (if they are unique), or\n",
        "  # by its index.\n",
        "  with tb.output_to(1):\n",
        "    pylab.figure(figsize=(3, 3))\n",
        "    pylab.plot([3, 2, 3])\n",
        "    pylab.show()\n",
        "\n",
        "\n",
        "print('Different orientations for tabs')\n",
        "\n",
        "positions = ['start', 'bottom', 'end', 'top']\n",
        "\n",
        "for p, _ in zip(positions, widgets.Grid(1, 4)):\n",
        "  print('---- %s ---' % p)\n",
        "  create_tab(p)\n"
      ],
      "metadata": {
        "colab": {
          "resources": {
            "http://localhost:8080/nbextensions/google.colab/tabbar_main.min.js": {
              "data": "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",
              "ok": true,
              "headers": [
                [
                  "content-length",
                  "41785"
                ],
                [
                  "content-type",
                  "application/javascript"
                ]
              ],
              "status": 200,
              "status_text": ""
            },
            "http://localhost:8080/nbextensions/google.colab/tabbar.css": {
              "data": "Lmdvb2ctdGFie3Bvc2l0aW9uOnJlbGF0aXZlO3BhZGRpbmc6NHB4IDhweDtjb2xvcjojMDBjO3RleHQtZGVjb3JhdGlvbjp1bmRlcmxpbmU7Y3Vyc29yOmRlZmF1bHR9Lmdvb2ctdGFiLWJhci10b3AgLmdvb2ctdGFie21hcmdpbjoxcHggNHB4IDAgMDtib3JkZXItYm90dG9tOjA7ZmxvYXQ6bGVmdH0uZ29vZy10YWItYmFyLXRvcDphZnRlciwuZ29vZy10YWItYmFyLWJvdHRvbTphZnRlcntjb250ZW50OiIgIjtkaXNwbGF5OmJsb2NrO2hlaWdodDowO2NsZWFyOmJvdGg7dmlzaWJpbGl0eTpoaWRkZW59Lmdvb2ctdGFiLWJhci1ib3R0b20gLmdvb2ctdGFie21hcmdpbjowIDRweCAxcHggMDtib3JkZXItdG9wOjA7ZmxvYXQ6bGVmdH0uZ29vZy10YWItYmFyLXN0YXJ0IC5nb29nLXRhYnttYXJnaW46MCAwIDRweCAxcHg7Ym9yZGVyLXJpZ2h0OjB9Lmdvb2ctdGFiLWJhci1lbmQgLmdvb2ctdGFie21hcmdpbjowIDFweCA0cHggMDtib3JkZXItbGVmdDowfS5nb29nLXRhYi1ob3ZlcntiYWNrZ3JvdW5kOiNlZWV9Lmdvb2ctdGFiLWRpc2FibGVke2NvbG9yOiM2NjZ9Lmdvb2ctdGFiLXNlbGVjdGVke2NvbG9yOiMwMDA7YmFja2dyb3VuZDojZmZmO3RleHQtZGVjb3JhdGlvbjpub25lO2ZvbnQtd2VpZ2h0OmJvbGQ7Ym9yZGVyOjFweCBzb2xpZCAjNmI5MGRhfS5nb29nLXRhYi1iYXItdG9we3BhZGRpbmctdG9wOjVweCFpbXBvcnRhbnQ7cGFkZGluZy1sZWZ0OjVweCFpbXBvcnRhbnQ7Ym9yZGVyLWJvdHRvbToxcHggc29saWQgIzZiOTBkYSFpbXBvcnRhbnR9Lmdvb2ctdGFiLWJhci10b3AgLmdvb2ctdGFiLXNlbGVjdGVke3RvcDoxcHg7bWFyZ2luLXRvcDowO3BhZGRpbmctYm90dG9tOjVweH0uZ29vZy10YWItYmFyLWJvdHRvbSAuZ29vZy10YWItc2VsZWN0ZWR7dG9wOi0xcHg7bWFyZ2luLWJvdHRvbTowO3BhZGRpbmctdG9wOjVweH0uZ29vZy10YWItYmFyLXN0YXJ0IC5nb29nLXRhYi1zZWxlY3RlZHtsZWZ0OjFweDttYXJnaW4tbGVmdDowO3BhZGRpbmctcmlnaHQ6OXB4fS5nb29nLXRhYi1iYXItZW5kIC5nb29nLXRhYi1zZWxlY3RlZHtsZWZ0Oi0xcHg7bWFyZ2luLXJpZ2h0OjA7cGFkZGluZy1sZWZ0OjlweH0uZ29vZy10YWItYmFye21hcmdpbjowO2JvcmRlcjowO3BhZGRpbmc6MDtsaXN0LXN0eWxlOm5vbmU7Y3Vyc29yOmRlZmF1bHQ7b3V0bGluZTpub25lO2JhY2tncm91bmQ6I2ViZWZmOX0uZ29vZy10YWItYmFyLWNsZWFye2NsZWFyOmJvdGg7aGVpZ2h0OjA7b3ZlcmZsb3c6aGlkZGVufS5nb29nLXRhYi1iYXItc3RhcnR7ZmxvYXQ6bGVmdH0uZ29vZy10YWItYmFyLWVuZHtmbG9hdDpyaWdodH0qIGh0bWwgLmdvb2ctdGFiLWJhci1zdGFydHttYXJnaW4tcmlnaHQ6LTNweH0qIGh0bWwgLmdvb2ctdGFiLWJhci1lbmR7bWFyZ2luLWxlZnQ6LTNweH1zZW50aW5lbHt9",
              "ok": true,
              "headers": [
                [
                  "content-length",
                  "1404"
                ],
                [
                  "content-type",
                  "text/css"
                ]
              ],
              "status": 200,
              "status_text": ""
            }
          },
          "base_uri": "https://localhost:8080/",
          "height": 644
        },
        "id": "Nb5VB4-UO6vT",
        "outputId": "530055f5-71fd-403b-fc8b-c87406fa3f4d"
      },
      "execution_count": 36,
      "outputs": [
        {
          "output_type": "stream",
          "name": "stdout",
          "text": [
            "Different orientations for tabs\n"
          ]
        },
        {
          "output_type": "display_data",
          "data": {
            "text/plain": [
              "<IPython.core.display.HTML object>"
            ],
            "text/html": [
              "<style>\n",
              "       table#id2, #id2 > tbody > tr > th, #id2 > tbody > tr > td {\n",
              "         border: 1px solid lightgray;\n",
              "         border-collapse:collapse;\n",
              "         \n",
              "        }</style>"
            ]
          },
          "metadata": {}
        },
        {
          "output_type": "display_data",
          "data": {
            "text/plain": [
              "<IPython.core.display.HTML object>"
            ],
            "text/html": [
              "<table id=id2><tr><td id=id2-0-0></td><td id=id2-0-1></td><td id=id2-0-2></td><td id=id2-0-3></td></tr></table>"
            ]
          },
          "metadata": {}
        },
        {
          "output_type": "display_data",
          "data": {
            "text/plain": [
              "<IPython.core.display.Javascript object>"
            ],
            "application/javascript": [
              "window[\"2722fbfa-c82e-11ef-806f-0242ac1c000c\"] = google.colab.output.getActiveOutputArea();\n",
              "//# sourceURL=js_a9e7cbf378"
            ]
          },
          "metadata": {}
        },
        {
          "output_type": "display_data",
          "data": {
            "text/plain": [
              "<IPython.core.display.Javascript object>"
            ],
            "application/javascript": [
              "window[\"27235eba-c82e-11ef-806f-0242ac1c000c\"] = document.querySelector(\"#id2-0-0\");\n",
              "//# sourceURL=js_ed685267e5"
            ]
          },
          "metadata": {}
        },
        {
          "output_type": "display_data",
          "data": {
            "text/plain": [
              "<IPython.core.display.Javascript object>"
            ],
            "application/javascript": [
              "window[\"2723b220-c82e-11ef-806f-0242ac1c000c\"] = google.colab.output.setActiveOutputArea(window[\"27235eba-c82e-11ef-806f-0242ac1c000c\"]);\n",
              "//# sourceURL=js_8a39ccbd98"
            ]
          },
          "metadata": {}
        },
        {
          "output_type": "stream",
          "name": "stdout",
          "text": [
            "---- start ---\n"
          ]
        },
        {
          "output_type": "display_data",
          "data": {
            "text/plain": [
              "<IPython.core.display.HTML object>"
            ],
            "text/html": [
              "<link rel=stylesheet type=text/css href='/nbextensions/google.colab/tabbar.css'></link>"
            ]
          },
          "metadata": {}
        },
        {
          "output_type": "display_data",
          "data": {
            "text/plain": [
              "<IPython.core.display.HTML object>"
            ],
            "text/html": [
              "<script src='/nbextensions/google.colab/tabbar_main.min.js'></script>"
            ]
          },
          "metadata": {}
        },
        {
          "output_type": "display_data",
          "data": {
            "text/plain": [
              "<IPython.core.display.HTML object>"
            ],
            "text/html": [
              "<div id=\"id3\"></div>"
            ]
          },
          "metadata": {}
        },
        {
          "output_type": "display_data",
          "data": {
            "text/plain": [
              "<IPython.core.display.Javascript object>"
            ],
            "application/javascript": [
              "window[\"272603c2-c82e-11ef-806f-0242ac1c000c\"] = colab_lib.createTabBar({\"location\": \"start\", \"elementId\": \"id3\", \"tabNames\": [\"a\", \"b\"], \"initialSelection\": 0, \"contentBorder\": [\"0px\"], \"contentHeight\": [\"initial\"], \"borderColor\": [\"#a7a7a7\"]});\n",
              "//# sourceURL=js_ce0738bdcb"
            ]
          },
          "metadata": {}
        },
        {
          "output_type": "display_data",
          "data": {
            "text/plain": [
              "<IPython.core.display.Javascript object>"
            ],
            "application/javascript": [
              "window[\"272656e2-c82e-11ef-806f-0242ac1c000c\"] = window[\"id3\"].setSelectedTabIndex(0);\n",
              "//# sourceURL=js_6e11d374be"
            ]
          },
          "metadata": {}
        },
        {
          "output_type": "display_data",
          "data": {
            "text/plain": [
              "<IPython.core.display.Javascript object>"
            ],
            "application/javascript": [
              "window[\"272815cc-c82e-11ef-806f-0242ac1c000c\"] = google.colab.output.getActiveOutputArea();\n",
              "//# sourceURL=js_a9cbe16c43"
            ]
          },
          "metadata": {}
        },
        {
          "output_type": "display_data",
          "data": {
            "text/plain": [
              "<IPython.core.display.Javascript object>"
            ],
            "application/javascript": [
              "window[\"27286a40-c82e-11ef-806f-0242ac1c000c\"] = document.querySelector(\"#id3_content_0\");\n",
              "//# sourceURL=js_72a6320938"
            ]
          },
          "metadata": {}
        },
        {
          "output_type": "display_data",
          "data": {
            "text/plain": [
              "<IPython.core.display.Javascript object>"
            ],
            "application/javascript": [
              "window[\"2728c2ce-c82e-11ef-806f-0242ac1c000c\"] = google.colab.output.setActiveOutputArea(window[\"27286a40-c82e-11ef-806f-0242ac1c000c\"]);\n",
              "//# sourceURL=js_9abeeabef5"
            ]
          },
          "metadata": {}
        },
        {
          "output_type": "display_data",
          "data": {
            "text/plain": [
              "<IPython.core.display.Javascript object>"
            ],
            "application/javascript": [
              "window[\"2729973a-c82e-11ef-806f-0242ac1c000c\"] = window[\"id3\"].setSelectedTabIndex(0);\n",
              "//# sourceURL=js_29e950b6eb"
            ]
          },
          "metadata": {}
        },
        {
          "output_type": "display_data",
          "data": {
            "text/plain": [
              "<IPython.core.display.Javascript object>"
            ],
            "application/javascript": [
              "window[\"272dcd0a-c82e-11ef-806f-0242ac1c000c\"] = google.colab.output.setActiveOutputArea(window[\"272815cc-c82e-11ef-806f-0242ac1c000c\"]);\n",
              "//# sourceURL=js_3e59fea818"
            ]
          },
          "metadata": {}
        },
        {
          "output_type": "display_data",
          "data": {
            "text/plain": [
              "<IPython.core.display.Javascript object>"
            ],
            "application/javascript": [
              "window[\"272fc060-c82e-11ef-806f-0242ac1c000c\"] = google.colab.output.getActiveOutputArea();\n",
              "//# sourceURL=js_b32122f23b"
            ]
          },
          "metadata": {}
        },
        {
          "output_type": "display_data",
          "data": {
            "text/plain": [
              "<IPython.core.display.Javascript object>"
            ],
            "application/javascript": [
              "window[\"272fffd0-c82e-11ef-806f-0242ac1c000c\"] = document.querySelector(\"#id3_content_1\");\n",
              "//# sourceURL=js_c6c5ff7aa6"
            ]
          },
          "metadata": {}
        },
        {
          "output_type": "display_data",
          "data": {
            "text/plain": [
              "<IPython.core.display.Javascript object>"
            ],
            "application/javascript": [
              "window[\"2730396e-c82e-11ef-806f-0242ac1c000c\"] = google.colab.output.setActiveOutputArea(window[\"272fffd0-c82e-11ef-806f-0242ac1c000c\"]);\n",
              "//# sourceURL=js_1ebaa551b2"
            ]
          },
          "metadata": {}
        },
        {
          "output_type": "display_data",
          "data": {
            "text/plain": [
              "<IPython.core.display.Javascript object>"
            ],
            "application/javascript": [
              "window[\"2730b1be-c82e-11ef-806f-0242ac1c000c\"] = window[\"id3\"].setSelectedTabIndex(1);\n",
              "//# sourceURL=js_4b921c3889"
            ]
          },
          "metadata": {}
        },
        {
          "output_type": "display_data",
          "data": {
            "text/plain": [
              "<Figure size 300x300 with 1 Axes>"
            ],
            "image/png": "[encoded data removed]"
          },
          "metadata": {}
        },
        {
          "output_type": "display_data",
          "data": {
            "text/plain": [
              "<Figure size 300x300 with 1 Axes>"
            ],
            "image/png": "[encoded data removed]"
          },
          "metadata": {}
        },
        {
          "output_type": "display_data",
          "data": {
            "text/plain": [
              "<IPython.core.display.Javascript object>"
            ],
            "application/javascript": [
              "window[\"2760e8f2-c82e-11ef-806f-0242ac1c000c\"] = google.colab.output.setActiveOutputArea(window[\"272fc060-c82e-11ef-806f-0242ac1c000c\"]);\n",
              "//# sourceURL=js_fc657522b2"
            ]
          },
          "metadata": {}
        },
        {
          "output_type": "display_data",
          "data": {
            "text/plain": [
              "<IPython.core.display.Javascript object>"
            ],
            "application/javascript": [
              "window[\"27634c6e-c82e-11ef-806f-0242ac1c000c\"] = google.colab.output.setActiveOutputArea(window[\"2722fbfa-c82e-11ef-806f-0242ac1c000c\"]);\n",
              "//# sourceURL=js_8a1391a4b4"
            ]
          },
          "metadata": {}
        },
        {
          "output_type": "display_data",
          "data": {
            "text/plain": [
              "<IPython.core.display.Javascript object>"
            ],
            "application/javascript": [
              "window[\"27658786-c82e-11ef-806f-0242ac1c000c\"] = google.colab.output.getActiveOutputArea();\n",
              "//# sourceURL=js_b24fef151d"
            ]
          },
          "metadata": {}
        },
        {
          "output_type": "display_data",
          "data": {
            "text/plain": [
              "<IPython.core.display.Javascript object>"
            ],
            "application/javascript": [
              "window[\"2765f180-c82e-11ef-806f-0242ac1c000c\"] = document.querySelector(\"#id2-0-1\");\n",
              "//# sourceURL=js_8a3a8838c3"
            ]
          },
          "metadata": {}
        },
        {
          "output_type": "display_data",
          "data": {
            "text/plain": [
              "<IPython.core.display.Javascript object>"
            ],
            "application/javascript": [
              "window[\"276632da-c82e-11ef-806f-0242ac1c000c\"] = google.colab.output.setActiveOutputArea(window[\"2765f180-c82e-11ef-806f-0242ac1c000c\"]);\n",
              "//# sourceURL=js_96101a6b0f"
            ]
          },
          "metadata": {}
        },
        {
          "output_type": "stream",
          "name": "stdout",
          "text": [
            "---- bottom ---\n"
          ]
        },
        {
          "output_type": "display_data",
          "data": {
            "text/plain": [
              "<IPython.core.display.HTML object>"
            ],
            "text/html": [
              "<link rel=stylesheet type=text/css href='/nbextensions/google.colab/tabbar.css'></link>"
            ]
          },
          "metadata": {}
        },
        {
          "output_type": "display_data",
          "data": {
            "text/plain": [
              "<IPython.core.display.HTML object>"
            ],
            "text/html": [
              "<script src='/nbextensions/google.colab/tabbar_main.min.js'></script>"
            ]
          },
          "metadata": {}
        },
        {
          "output_type": "display_data",
          "data": {
            "text/plain": [
              "<IPython.core.display.HTML object>"
            ],
            "text/html": [
              "<div id=\"id4\"></div>"
            ]
          },
          "metadata": {}
        },
        {
          "output_type": "display_data",
          "data": {
            "text/plain": [
              "<IPython.core.display.Javascript object>"
            ],
            "application/javascript": [
              "window[\"2769ba04-c82e-11ef-806f-0242ac1c000c\"] = colab_lib.createTabBar({\"location\": \"bottom\", \"elementId\": \"id4\", \"tabNames\": [\"a\", \"b\"], \"initialSelection\": 0, \"contentBorder\": [\"0px\"], \"contentHeight\": [\"initial\"], \"borderColor\": [\"#a7a7a7\"]});\n",
              "//# sourceURL=js_1b39490e10"
            ]
          },
          "metadata": {}
        },
        {
          "output_type": "display_data",
          "data": {
            "text/plain": [
              "<IPython.core.display.Javascript object>"
            ],
            "application/javascript": [
              "window[\"276a1134-c82e-11ef-806f-0242ac1c000c\"] = window[\"id4\"].setSelectedTabIndex(0);\n",
              "//# sourceURL=js_22b49fecec"
            ]
          },
          "metadata": {}
        },
        {
          "output_type": "display_data",
          "data": {
            "text/plain": [
              "<IPython.core.display.Javascript object>"
            ],
            "application/javascript": [
              "window[\"276b8b4a-c82e-11ef-806f-0242ac1c000c\"] = google.colab.output.getActiveOutputArea();\n",
              "//# sourceURL=js_a634be5335"
            ]
          },
          "metadata": {}
        },
        {
          "output_type": "display_data",
          "data": {
            "text/plain": [
              "<IPython.core.display.Javascript object>"
            ],
            "application/javascript": [
              "window[\"276e071c-c82e-11ef-806f-0242ac1c000c\"] = document.querySelector(\"#id4_content_0\");\n",
              "//# sourceURL=js_fe13c495ec"
            ]
          },
          "metadata": {}
        },
        {
          "output_type": "display_data",
          "data": {
            "text/plain": [
              "<IPython.core.display.Javascript object>"
            ],
            "application/javascript": [
              "window[\"276f00a4-c82e-11ef-806f-0242ac1c000c\"] = google.colab.output.setActiveOutputArea(window[\"276e071c-c82e-11ef-806f-0242ac1c000c\"]);\n",
              "//# sourceURL=js_a449e40d3c"
            ]
          },
          "metadata": {}
        },
        {
          "output_type": "display_data",
          "data": {
            "text/plain": [
              "<IPython.core.display.Javascript object>"
            ],
            "application/javascript": [
              "window[\"276f3cf4-c82e-11ef-806f-0242ac1c000c\"] = window[\"id4\"].setSelectedTabIndex(0);\n",
              "//# sourceURL=js_19f26da5f3"
            ]
          },
          "metadata": {}
        },
        {
          "output_type": "display_data",
          "data": {
            "text/plain": [
              "<IPython.core.display.Javascript object>"
            ],
            "application/javascript": [
              "window[\"27753104-c82e-11ef-806f-0242ac1c000c\"] = google.colab.output.setActiveOutputArea(window[\"276b8b4a-c82e-11ef-806f-0242ac1c000c\"]);\n",
              "//# sourceURL=js_aff6dc23f9"
            ]
          },
          "metadata": {}
        },
        {
          "output_type": "display_data",
          "data": {
            "text/plain": [
              "<IPython.core.display.Javascript object>"
            ],
            "application/javascript": [
              "window[\"27780fa0-c82e-11ef-806f-0242ac1c000c\"] = google.colab.output.getActiveOutputArea();\n",
              "//# sourceURL=js_c207db0482"
            ]
          },
          "metadata": {}
        },
        {
          "output_type": "display_data",
          "data": {
            "text/plain": [
              "<IPython.core.display.Javascript object>"
            ],
            "application/javascript": [
              "window[\"27785c08-c82e-11ef-806f-0242ac1c000c\"] = document.querySelector(\"#id4_content_1\");\n",
              "//# sourceURL=js_3041095616"
            ]
          },
          "metadata": {}
        },
        {
          "output_type": "display_data",
          "data": {
            "text/plain": [
              "<IPython.core.display.Javascript object>"
            ],
            "application/javascript": [
              "window[\"2778ed6c-c82e-11ef-806f-0242ac1c000c\"] = google.colab.output.setActiveOutputArea(window[\"27785c08-c82e-11ef-806f-0242ac1c000c\"]);\n",
              "//# sourceURL=js_7c91691a48"
            ]
          },
          "metadata": {}
        },
        {
          "output_type": "display_data",
          "data": {
            "text/plain": [
              "<IPython.core.display.Javascript object>"
            ],
            "application/javascript": [
              "window[\"27795162-c82e-11ef-806f-0242ac1c000c\"] = window[\"id4\"].setSelectedTabIndex(1);\n",
              "//# sourceURL=js_4f72944fd8"
            ]
          },
          "metadata": {}
        },
        {
          "output_type": "display_data",
          "data": {
            "text/plain": [
              "<Figure size 300x300 with 1 Axes>"
            ],
            "image/png": "[encoded data removed]"
          },
          "metadata": {}
        },
        {
          "output_type": "display_data",
          "data": {
            "text/plain": [
              "<Figure size 300x300 with 1 Axes>"
            ],
            "image/png": "[encoded data removed]"
          },
          "metadata": {}
        },
        {
          "output_type": "display_data",
          "data": {
            "text/plain": [
              "<IPython.core.display.Javascript object>"
            ],
            "application/javascript": [
              "window[\"27d776ca-c82e-11ef-806f-0242ac1c000c\"] = google.colab.output.setActiveOutputArea(window[\"27780fa0-c82e-11ef-806f-0242ac1c000c\"]);\n",
              "//# sourceURL=js_9b0df39c2e"
            ]
          },
          "metadata": {}
        },
        {
          "output_type": "display_data",
          "data": {
            "text/plain": [
              "<IPython.core.display.Javascript object>"
            ],
            "application/javascript": [
              "window[\"27d95c42-c82e-11ef-806f-0242ac1c000c\"] = google.colab.output.setActiveOutputArea(window[\"27658786-c82e-11ef-806f-0242ac1c000c\"]);\n",
              "//# sourceURL=js_b0746ca6ac"
            ]
          },
          "metadata": {}
        },
        {
          "output_type": "display_data",
          "data": {
            "text/plain": [
              "<IPython.core.display.Javascript object>"
            ],
            "application/javascript": [
              "window[\"27daf9e4-c82e-11ef-806f-0242ac1c000c\"] = google.colab.output.getActiveOutputArea();\n",
              "//# sourceURL=js_53c83d8930"
            ]
          },
          "metadata": {}
        },
        {
          "output_type": "display_data",
          "data": {
            "text/plain": [
              "<IPython.core.display.Javascript object>"
            ],
            "application/javascript": [
              "window[\"27db4b06-c82e-11ef-806f-0242ac1c000c\"] = document.querySelector(\"#id2-0-2\");\n",
              "//# sourceURL=js_5047b20b77"
            ]
          },
          "metadata": {}
        },
        {
          "output_type": "display_data",
          "data": {
            "text/plain": [
              "<IPython.core.display.Javascript object>"
            ],
            "application/javascript": [
              "window[\"27db8832-c82e-11ef-806f-0242ac1c000c\"] = google.colab.output.setActiveOutputArea(window[\"27db4b06-c82e-11ef-806f-0242ac1c000c\"]);\n",
              "//# sourceURL=js_c1102c9ff4"
            ]
          },
          "metadata": {}
        },
        {
          "output_type": "stream",
          "name": "stdout",
          "text": [
            "---- end ---\n"
          ]
        },
        {
          "output_type": "display_data",
          "data": {
            "text/plain": [
              "<IPython.core.display.HTML object>"
            ],
            "text/html": [
              "<link rel=stylesheet type=text/css href='/nbextensions/google.colab/tabbar.css'></link>"
            ]
          },
          "metadata": {}
        },
        {
          "output_type": "display_data",
          "data": {
            "text/plain": [
              "<IPython.core.display.HTML object>"
            ],
            "text/html": [
              "<script src='/nbextensions/google.colab/tabbar_main.min.js'></script>"
            ]
          },
          "metadata": {}
        },
        {
          "output_type": "display_data",
          "data": {
            "text/plain": [
              "<IPython.core.display.HTML object>"
            ],
            "text/html": [
              "<div id=\"id5\"></div>"
            ]
          },
          "metadata": {}
        },
        {
          "output_type": "display_data",
          "data": {
            "text/plain": [
              "<IPython.core.display.Javascript object>"
            ],
            "application/javascript": [
              "window[\"27dd50ea-c82e-11ef-806f-0242ac1c000c\"] = colab_lib.createTabBar({\"location\": \"end\", \"elementId\": \"id5\", \"tabNames\": [\"a\", \"b\"], \"initialSelection\": 0, \"contentBorder\": [\"0px\"], \"contentHeight\": [\"initial\"], \"borderColor\": [\"#a7a7a7\"]});\n",
              "//# sourceURL=js_d48d291b05"
            ]
          },
          "metadata": {}
        },
        {
          "output_type": "display_data",
          "data": {
            "text/plain": [
              "<IPython.core.display.Javascript object>"
            ],
            "application/javascript": [
              "window[\"27dd9848-c82e-11ef-806f-0242ac1c000c\"] = window[\"id5\"].setSelectedTabIndex(0);\n",
              "//# sourceURL=js_5c994fce8b"
            ]
          },
          "metadata": {}
        },
        {
          "output_type": "display_data",
          "data": {
            "text/plain": [
              "<IPython.core.display.Javascript object>"
            ],
            "application/javascript": [
              "window[\"27ded906-c82e-11ef-806f-0242ac1c000c\"] = google.colab.output.getActiveOutputArea();\n",
              "//# sourceURL=js_6c6a352354"
            ]
          },
          "metadata": {}
        },
        {
          "output_type": "display_data",
          "data": {
            "text/plain": [
              "<IPython.core.display.Javascript object>"
            ],
            "application/javascript": [
              "window[\"27df3004-c82e-11ef-806f-0242ac1c000c\"] = document.querySelector(\"#id5_content_0\");\n",
              "//# sourceURL=js_6f4da2d1b6"
            ]
          },
          "metadata": {}
        },
        {
          "output_type": "display_data",
          "data": {
            "text/plain": [
              "<IPython.core.display.Javascript object>"
            ],
            "application/javascript": [
              "window[\"27df765e-c82e-11ef-806f-0242ac1c000c\"] = google.colab.output.setActiveOutputArea(window[\"27df3004-c82e-11ef-806f-0242ac1c000c\"]);\n",
              "//# sourceURL=js_d1c6b2838f"
            ]
          },
          "metadata": {}
        },
        {
          "output_type": "display_data",
          "data": {
            "text/plain": [
              "<IPython.core.display.Javascript object>"
            ],
            "application/javascript": [
              "window[\"27dfc50a-c82e-11ef-806f-0242ac1c000c\"] = window[\"id5\"].setSelectedTabIndex(0);\n",
              "//# sourceURL=js_e77b599687"
            ]
          },
          "metadata": {}
        },
        {
          "output_type": "display_data",
          "data": {
            "text/plain": [
              "<IPython.core.display.Javascript object>"
            ],
            "application/javascript": [
              "window[\"27e64092-c82e-11ef-806f-0242ac1c000c\"] = google.colab.output.setActiveOutputArea(window[\"27ded906-c82e-11ef-806f-0242ac1c000c\"]);\n",
              "//# sourceURL=js_e24f6d97b8"
            ]
          },
          "metadata": {}
        },
        {
          "output_type": "display_data",
          "data": {
            "text/plain": [
              "<IPython.core.display.Javascript object>"
            ],
            "application/javascript": [
              "window[\"27e918f8-c82e-11ef-806f-0242ac1c000c\"] = google.colab.output.getActiveOutputArea();\n",
              "//# sourceURL=js_033876274a"
            ]
          },
          "metadata": {}
        },
        {
          "output_type": "display_data",
          "data": {
            "text/plain": [
              "<IPython.core.display.Javascript object>"
            ],
            "application/javascript": [
              "window[\"27e972d0-c82e-11ef-806f-0242ac1c000c\"] = document.querySelector(\"#id5_content_1\");\n",
              "//# sourceURL=js_e972e24c20"
            ]
          },
          "metadata": {}
        },
        {
          "output_type": "display_data",
          "data": {
            "text/plain": [
              "<IPython.core.display.Javascript object>"
            ],
            "application/javascript": [
              "window[\"27e9d1e4-c82e-11ef-806f-0242ac1c000c\"] = google.colab.output.setActiveOutputArea(window[\"27e972d0-c82e-11ef-806f-0242ac1c000c\"]);\n",
              "//# sourceURL=js_ad990023f7"
            ]
          },
          "metadata": {}
        },
        {
          "output_type": "display_data",
          "data": {
            "text/plain": [
              "<IPython.core.display.Javascript object>"
            ],
            "application/javascript": [
              "window[\"27ea2e00-c82e-11ef-806f-0242ac1c000c\"] = window[\"id5\"].setSelectedTabIndex(1);\n",
              "//# sourceURL=js_9c185d7389"
            ]
          },
          "metadata": {}
        },
        {
          "output_type": "display_data",
          "data": {
            "text/plain": [
              "<Figure size 300x300 with 1 Axes>"
            ],
            "image/png": "[encoded data removed]"
          },
          "metadata": {}
        },
        {
          "output_type": "display_data",
          "data": {
            "text/plain": [
              "<Figure size 300x300 with 1 Axes>"
            ],
            "image/png": "[encoded data removed]"
          },
          "metadata": {}
        },
        {
          "output_type": "display_data",
          "data": {
            "text/plain": [
              "<IPython.core.display.Javascript object>"
            ],
            "application/javascript": [
              "window[\"2837b54e-c82e-11ef-806f-0242ac1c000c\"] = google.colab.output.setActiveOutputArea(window[\"27e918f8-c82e-11ef-806f-0242ac1c000c\"]);\n",
              "//# sourceURL=js_a91b59fc5f"
            ]
          },
          "metadata": {}
        },
        {
          "output_type": "display_data",
          "data": {
            "text/plain": [
              "<IPython.core.display.Javascript object>"
            ],
            "application/javascript": [
              "window[\"283b17c0-c82e-11ef-806f-0242ac1c000c\"] = google.colab.output.setActiveOutputArea(window[\"27daf9e4-c82e-11ef-806f-0242ac1c000c\"]);\n",
              "//# sourceURL=js_ba8acec3fe"
            ]
          },
          "metadata": {}
        },
        {
          "output_type": "display_data",
          "data": {
            "text/plain": [
              "<IPython.core.display.Javascript object>"
            ],
            "application/javascript": [
              "window[\"283ee4ea-c82e-11ef-806f-0242ac1c000c\"] = google.colab.output.getActiveOutputArea();\n",
              "//# sourceURL=js_d22a8315f0"
            ]
          },
          "metadata": {}
        },
        {
          "output_type": "display_data",
          "data": {
            "text/plain": [
              "<IPython.core.display.Javascript object>"
            ],
            "application/javascript": [
              "window[\"283fa808-c82e-11ef-806f-0242ac1c000c\"] = document.querySelector(\"#id2-0-3\");\n",
              "//# sourceURL=js_d354a07f03"
            ]
          },
          "metadata": {}
        },
        {
          "output_type": "display_data",
          "data": {
            "text/plain": [
              "<IPython.core.display.Javascript object>"
            ],
            "application/javascript": [
              "window[\"2840352a-c82e-11ef-806f-0242ac1c000c\"] = google.colab.output.setActiveOutputArea(window[\"283fa808-c82e-11ef-806f-0242ac1c000c\"]);\n",
              "//# sourceURL=js_9e3c8d6663"
            ]
          },
          "metadata": {}
        },
        {
          "output_type": "stream",
          "name": "stdout",
          "text": [
            "---- top ---\n"
          ]
        },
        {
          "output_type": "display_data",
          "data": {
            "text/plain": [
              "<IPython.core.display.HTML object>"
            ],
            "text/html": [
              "<link rel=stylesheet type=text/css href='/nbextensions/google.colab/tabbar.css'></link>"
            ]
          },
          "metadata": {}
        },
        {
          "output_type": "display_data",
          "data": {
            "text/plain": [
              "<IPython.core.display.HTML object>"
            ],
            "text/html": [
              "<script src='/nbextensions/google.colab/tabbar_main.min.js'></script>"
            ]
          },
          "metadata": {}
        },
        {
          "output_type": "display_data",
          "data": {
            "text/plain": [
              "<IPython.core.display.HTML object>"
            ],
            "text/html": [
              "<div id=\"id6\"></div>"
            ]
          },
          "metadata": {}
        },
        {
          "output_type": "display_data",
          "data": {
            "text/plain": [
              "<IPython.core.display.Javascript object>"
            ],
            "application/javascript": [
              "window[\"2843e256-c82e-11ef-806f-0242ac1c000c\"] = colab_lib.createTabBar({\"location\": \"top\", \"elementId\": \"id6\", \"tabNames\": [\"a\", \"b\"], \"initialSelection\": 0, \"contentBorder\": [\"0px\"], \"contentHeight\": [\"initial\"], \"borderColor\": [\"#a7a7a7\"]});\n",
              "//# sourceURL=js_0f6e547819"
            ]
          },
          "metadata": {}
        },
        {
          "output_type": "display_data",
          "data": {
            "text/plain": [
              "<IPython.core.display.Javascript object>"
            ],
            "application/javascript": [
              "window[\"2844a862-c82e-11ef-806f-0242ac1c000c\"] = window[\"id6\"].setSelectedTabIndex(0);\n",
              "//# sourceURL=js_5c2969e35c"
            ]
          },
          "metadata": {}
        },
        {
          "output_type": "display_data",
          "data": {
            "text/plain": [
              "<IPython.core.display.Javascript object>"
            ],
            "application/javascript": [
              "window[\"2847bb7e-c82e-11ef-806f-0242ac1c000c\"] = google.colab.output.getActiveOutputArea();\n",
              "//# sourceURL=js_c29b655b6b"
            ]
          },
          "metadata": {}
        },
        {
          "output_type": "display_data",
          "data": {
            "text/plain": [
              "<IPython.core.display.Javascript object>"
            ],
            "application/javascript": [
              "window[\"2848206e-c82e-11ef-806f-0242ac1c000c\"] = document.querySelector(\"#id6_content_0\");\n",
              "//# sourceURL=js_669cde3836"
            ]
          },
          "metadata": {}
        },
        {
          "output_type": "display_data",
          "data": {
            "text/plain": [
              "<IPython.core.display.Javascript object>"
            ],
            "application/javascript": [
              "window[\"284875b4-c82e-11ef-806f-0242ac1c000c\"] = google.colab.output.setActiveOutputArea(window[\"2848206e-c82e-11ef-806f-0242ac1c000c\"]);\n",
              "//# sourceURL=js_3b59c9fd4f"
            ]
          },
          "metadata": {}
        },
        {
          "output_type": "display_data",
          "data": {
            "text/plain": [
              "<IPython.core.display.Javascript object>"
            ],
            "application/javascript": [
              "window[\"2848b77c-c82e-11ef-806f-0242ac1c000c\"] = window[\"id6\"].setSelectedTabIndex(0);\n",
              "//# sourceURL=js_28bc03a188"
            ]
          },
          "metadata": {}
        },
        {
          "output_type": "display_data",
          "data": {
            "text/plain": [
              "<IPython.core.display.Javascript object>"
            ],
            "application/javascript": [
              "window[\"284fadfc-c82e-11ef-806f-0242ac1c000c\"] = google.colab.output.setActiveOutputArea(window[\"2847bb7e-c82e-11ef-806f-0242ac1c000c\"]);\n",
              "//# sourceURL=js_d92b84fe2b"
            ]
          },
          "metadata": {}
        },
        {
          "output_type": "display_data",
          "data": {
            "text/plain": [
              "<IPython.core.display.Javascript object>"
            ],
            "application/javascript": [
              "window[\"2852b7e0-c82e-11ef-806f-0242ac1c000c\"] = google.colab.output.getActiveOutputArea();\n",
              "//# sourceURL=js_b3037ea0eb"
            ]
          },
          "metadata": {}
        },
        {
          "output_type": "display_data",
          "data": {
            "text/plain": [
              "<IPython.core.display.Javascript object>"
            ],
            "application/javascript": [
              "window[\"2853209a-c82e-11ef-806f-0242ac1c000c\"] = document.querySelector(\"#id6_content_1\");\n",
              "//# sourceURL=js_33a8dd69dc"
            ]
          },
          "metadata": {}
        },
        {
          "output_type": "display_data",
          "data": {
            "text/plain": [
              "<IPython.core.display.Javascript object>"
            ],
            "application/javascript": [
              "window[\"28536ee2-c82e-11ef-806f-0242ac1c000c\"] = google.colab.output.setActiveOutputArea(window[\"2853209a-c82e-11ef-806f-0242ac1c000c\"]);\n",
              "//# sourceURL=js_042d9bb8fc"
            ]
          },
          "metadata": {}
        },
        {
          "output_type": "display_data",
          "data": {
            "text/plain": [
              "<IPython.core.display.Javascript object>"
            ],
            "application/javascript": [
              "window[\"2853b960-c82e-11ef-806f-0242ac1c000c\"] = window[\"id6\"].setSelectedTabIndex(1);\n",
              "//# sourceURL=js_e6e55cd504"
            ]
          },
          "metadata": {}
        },
        {
          "output_type": "display_data",
          "data": {
            "text/plain": [
              "<Figure size 300x300 with 1 Axes>"
            ],
            "image/png": "[encoded data removed]"
          },
          "metadata": {}
        },
        {
          "output_type": "display_data",
          "data": {
            "text/plain": [
              "<Figure size 300x300 with 1 Axes>"
            ],
            "image/png": "[encoded data removed]"
          },
          "metadata": {}
        },
        {
          "output_type": "display_data",
          "data": {
            "text/plain": [
              "<IPython.core.display.Javascript object>"
            ],
            "application/javascript": [
              "window[\"28e1537e-c82e-11ef-806f-0242ac1c000c\"] = google.colab.output.setActiveOutputArea(window[\"2852b7e0-c82e-11ef-806f-0242ac1c000c\"]);\n",
              "//# sourceURL=js_e1b2f9a775"
            ]
          },
          "metadata": {}
        },
        {
          "output_type": "display_data",
          "data": {
            "text/plain": [
              "<IPython.core.display.Javascript object>"
            ],
            "application/javascript": [
              "window[\"28e45b46-c82e-11ef-806f-0242ac1c000c\"] = google.colab.output.setActiveOutputArea(window[\"283ee4ea-c82e-11ef-806f-0242ac1c000c\"]);\n",
              "//# sourceURL=js_e5f6004824"
            ]
          },
          "metadata": {}
        }
      ]
    },
    {
      "cell_type": "code",
      "source": [
        "#@title String fields\n",
        "\n",
        "text = 'values' #@param {type:\"string\"}\n",
        "dropdown = '1st option' #@param [\"1st option\", \"2nd option\", \"3rd option\"]\n",
        "text_and_dropdown = '2nd option' #@param [\"1st option\", \"2nd option\", \"3rd option\"] {allow-input: true}\n",
        "\n",
        "print(text)\n",
        "print(dropdown)\n",
        "print(text_and_dropdown)"
      ],
      "metadata": {
        "colab": {
          "base_uri": "https://localhost:8080/"
        },
        "id": "I0y5JCB4O8fx",
        "outputId": "8c110695-dabb-43e2-b173-e5828d5b7c58"
      },
      "execution_count": 37,
      "outputs": [
        {
          "output_type": "stream",
          "name": "stdout",
          "text": [
            "values\n",
            "1st option\n",
            "2nd option\n"
          ]
        }
      ]
    }
  ]
}